{
 "cells": [
  {
   "cell_type": "markdown",
   "id": "194d0042",
   "metadata": {},
   "source": [
    "## Import Relevant Libraries"
   ]
  },
  {
   "cell_type": "code",
   "execution_count": 1,
   "id": "8c03151f",
   "metadata": {},
   "outputs": [],
   "source": [
    "import numpy as np\n",
    "import pandas as pd\n",
    "import matplotlib.pyplot as plt\n",
    "import seaborn as sns\n",
    "import math\n",
    "\n",
    "sns.set_style(\"darkgrid\")\n",
    "%matplotlib inline"
   ]
  },
  {
   "cell_type": "markdown",
   "id": "448424fd",
   "metadata": {},
   "source": [
    "## Data Exploration"
   ]
  },
  {
   "cell_type": "code",
   "execution_count": 2,
   "id": "2a7d6d0a",
   "metadata": {},
   "outputs": [
    {
     "data": {
      "text/html": [
       "<div>\n",
       "<style scoped>\n",
       "    .dataframe tbody tr th:only-of-type {\n",
       "        vertical-align: middle;\n",
       "    }\n",
       "\n",
       "    .dataframe tbody tr th {\n",
       "        vertical-align: top;\n",
       "    }\n",
       "\n",
       "    .dataframe thead th {\n",
       "        text-align: right;\n",
       "    }\n",
       "</style>\n",
       "<table border=\"1\" class=\"dataframe\">\n",
       "  <thead>\n",
       "    <tr style=\"text-align: right;\">\n",
       "      <th></th>\n",
       "      <th>bedroom</th>\n",
       "      <th>bathroom</th>\n",
       "      <th>land_area</th>\n",
       "      <th>building_area</th>\n",
       "      <th>carport</th>\n",
       "      <th>prop_type</th>\n",
       "      <th>certificate</th>\n",
       "      <th>electric_power</th>\n",
       "      <th>maid_bedroom</th>\n",
       "      <th>floor_num</th>\n",
       "      <th>year_built</th>\n",
       "      <th>prop_cond</th>\n",
       "      <th>furniture_cond</th>\n",
       "      <th>ad_id</th>\n",
       "      <th>facing</th>\n",
       "      <th>garage</th>\n",
       "      <th>maid_bathroom</th>\n",
       "      <th>price</th>\n",
       "    </tr>\n",
       "  </thead>\n",
       "  <tbody>\n",
       "    <tr>\n",
       "      <th>0</th>\n",
       "      <td>3.0</td>\n",
       "      <td>3.0</td>\n",
       "      <td>77</td>\n",
       "      <td>112</td>\n",
       "      <td>2.0</td>\n",
       "      <td>House</td>\n",
       "      <td>SHM - Sertifikat Hak Milik</td>\n",
       "      <td>2200.0</td>\n",
       "      <td>1.0</td>\n",
       "      <td>2.0</td>\n",
       "      <td>2021.0</td>\n",
       "      <td>Good</td>\n",
       "      <td>Semi Furnished</td>\n",
       "      <td>hos14357221</td>\n",
       "      <td>NaN</td>\n",
       "      <td>0.0</td>\n",
       "      <td>0.0</td>\n",
       "      <td>1.350</td>\n",
       "    </tr>\n",
       "    <tr>\n",
       "      <th>1</th>\n",
       "      <td>3.0</td>\n",
       "      <td>3.0</td>\n",
       "      <td>73</td>\n",
       "      <td>93</td>\n",
       "      <td>0.0</td>\n",
       "      <td>House</td>\n",
       "      <td>SHM - Sertifikat Hak Milik</td>\n",
       "      <td>2200.0</td>\n",
       "      <td>0.0</td>\n",
       "      <td>2.0</td>\n",
       "      <td>2023.0</td>\n",
       "      <td>New</td>\n",
       "      <td>Unfurnished</td>\n",
       "      <td>hos13901815</td>\n",
       "      <td>East</td>\n",
       "      <td>0.0</td>\n",
       "      <td>0.0</td>\n",
       "      <td>0.995</td>\n",
       "    </tr>\n",
       "    <tr>\n",
       "      <th>2</th>\n",
       "      <td>2.0</td>\n",
       "      <td>2.0</td>\n",
       "      <td>105</td>\n",
       "      <td>90</td>\n",
       "      <td>1.0</td>\n",
       "      <td>House</td>\n",
       "      <td>SHM - Sertifikat Hak Milik</td>\n",
       "      <td>2200.0</td>\n",
       "      <td>0.0</td>\n",
       "      <td>2.0</td>\n",
       "      <td>NaN</td>\n",
       "      <td>Renovated</td>\n",
       "      <td>Unfurnished</td>\n",
       "      <td>hos14186873</td>\n",
       "      <td>South</td>\n",
       "      <td>2.0</td>\n",
       "      <td>0.0</td>\n",
       "      <td>1.020</td>\n",
       "    </tr>\n",
       "    <tr>\n",
       "      <th>3</th>\n",
       "      <td>3.0</td>\n",
       "      <td>2.0</td>\n",
       "      <td>210</td>\n",
       "      <td>150</td>\n",
       "      <td>0.0</td>\n",
       "      <td>House</td>\n",
       "      <td>SHM - Sertifikat Hak Milik</td>\n",
       "      <td>2200.0</td>\n",
       "      <td>1.0</td>\n",
       "      <td>1.0</td>\n",
       "      <td>NaN</td>\n",
       "      <td>Good</td>\n",
       "      <td>Unfurnished</td>\n",
       "      <td>hos14314243</td>\n",
       "      <td>NaN</td>\n",
       "      <td>0.0</td>\n",
       "      <td>1.0</td>\n",
       "      <td>1.500</td>\n",
       "    </tr>\n",
       "    <tr>\n",
       "      <th>4</th>\n",
       "      <td>2.0</td>\n",
       "      <td>2.0</td>\n",
       "      <td>60</td>\n",
       "      <td>50</td>\n",
       "      <td>1.0</td>\n",
       "      <td>House</td>\n",
       "      <td>SHM - Sertifikat Hak Milik</td>\n",
       "      <td>2200.0</td>\n",
       "      <td>0.0</td>\n",
       "      <td>2.0</td>\n",
       "      <td>NaN</td>\n",
       "      <td>Good</td>\n",
       "      <td>Unfurnished</td>\n",
       "      <td>hos13940617</td>\n",
       "      <td>North</td>\n",
       "      <td>0.0</td>\n",
       "      <td>0.0</td>\n",
       "      <td>1.100</td>\n",
       "    </tr>\n",
       "  </tbody>\n",
       "</table>\n",
       "</div>"
      ],
      "text/plain": [
       "   bedroom  bathroom  land_area  building_area  carport prop_type  \\\n",
       "0      3.0       3.0         77            112      2.0     House   \n",
       "1      3.0       3.0         73             93      0.0     House   \n",
       "2      2.0       2.0        105             90      1.0     House   \n",
       "3      3.0       2.0        210            150      0.0     House   \n",
       "4      2.0       2.0         60             50      1.0     House   \n",
       "\n",
       "                  certificate  electric_power  maid_bedroom  floor_num  \\\n",
       "0  SHM - Sertifikat Hak Milik          2200.0           1.0        2.0   \n",
       "1  SHM - Sertifikat Hak Milik          2200.0           0.0        2.0   \n",
       "2  SHM - Sertifikat Hak Milik          2200.0           0.0        2.0   \n",
       "3  SHM - Sertifikat Hak Milik          2200.0           1.0        1.0   \n",
       "4  SHM - Sertifikat Hak Milik          2200.0           0.0        2.0   \n",
       "\n",
       "   year_built  prop_cond  furniture_cond        ad_id facing  garage  \\\n",
       "0      2021.0       Good  Semi Furnished  hos14357221    NaN     0.0   \n",
       "1      2023.0        New     Unfurnished  hos13901815   East     0.0   \n",
       "2         NaN  Renovated     Unfurnished  hos14186873  South     2.0   \n",
       "3         NaN       Good     Unfurnished  hos14314243    NaN     0.0   \n",
       "4         NaN       Good     Unfurnished  hos13940617  North     0.0   \n",
       "\n",
       "   maid_bathroom  price  \n",
       "0            0.0  1.350  \n",
       "1            0.0  0.995  \n",
       "2            0.0  1.020  \n",
       "3            1.0  1.500  \n",
       "4            0.0  1.100  "
      ]
     },
     "execution_count": 2,
     "metadata": {},
     "output_type": "execute_result"
    }
   ],
   "source": [
    "house_df = pd.read_csv(\"bekasi-house-new.csv\")\n",
    "house_df.head()"
   ]
  },
  {
   "cell_type": "markdown",
   "id": "41ca93dd",
   "metadata": {},
   "source": [
    "#### Check missing values"
   ]
  },
  {
   "cell_type": "code",
   "execution_count": 3,
   "id": "7cd388aa",
   "metadata": {},
   "outputs": [
    {
     "data": {
      "text/plain": [
       "bedroom             0\n",
       "bathroom            0\n",
       "land_area           0\n",
       "building_area       0\n",
       "carport             0\n",
       "prop_type           0\n",
       "certificate         3\n",
       "electric_power     54\n",
       "maid_bedroom        0\n",
       "floor_num           0\n",
       "year_built        533\n",
       "prop_cond          46\n",
       "furniture_cond    183\n",
       "ad_id               0\n",
       "facing            587\n",
       "garage              0\n",
       "maid_bathroom       0\n",
       "price               0\n",
       "dtype: int64"
      ]
     },
     "execution_count": 3,
     "metadata": {},
     "output_type": "execute_result"
    }
   ],
   "source": [
    "house_df.isnull().sum()"
   ]
  },
  {
   "cell_type": "markdown",
   "id": "eb0feab3",
   "metadata": {},
   "source": [
    "#### Check data types"
   ]
  },
  {
   "cell_type": "code",
   "execution_count": 4,
   "id": "6bcde481",
   "metadata": {},
   "outputs": [
    {
     "data": {
      "text/plain": [
       "bedroom           float64\n",
       "bathroom          float64\n",
       "land_area           int64\n",
       "building_area       int64\n",
       "carport           float64\n",
       "prop_type          object\n",
       "certificate        object\n",
       "electric_power    float64\n",
       "maid_bedroom      float64\n",
       "floor_num         float64\n",
       "year_built        float64\n",
       "prop_cond          object\n",
       "furniture_cond     object\n",
       "ad_id              object\n",
       "facing             object\n",
       "garage            float64\n",
       "maid_bathroom     float64\n",
       "price             float64\n",
       "dtype: object"
      ]
     },
     "execution_count": 4,
     "metadata": {},
     "output_type": "execute_result"
    }
   ],
   "source": [
    "house_df.dtypes"
   ]
  },
  {
   "cell_type": "code",
   "execution_count": 5,
   "id": "83717540",
   "metadata": {},
   "outputs": [
    {
     "data": {
      "text/html": [
       "<div>\n",
       "<style scoped>\n",
       "    .dataframe tbody tr th:only-of-type {\n",
       "        vertical-align: middle;\n",
       "    }\n",
       "\n",
       "    .dataframe tbody tr th {\n",
       "        vertical-align: top;\n",
       "    }\n",
       "\n",
       "    .dataframe thead th {\n",
       "        text-align: right;\n",
       "    }\n",
       "</style>\n",
       "<table border=\"1\" class=\"dataframe\">\n",
       "  <thead>\n",
       "    <tr style=\"text-align: right;\">\n",
       "      <th></th>\n",
       "      <th>bedroom</th>\n",
       "      <th>bathroom</th>\n",
       "      <th>land_area</th>\n",
       "      <th>building_area</th>\n",
       "      <th>carport</th>\n",
       "      <th>electric_power</th>\n",
       "      <th>maid_bedroom</th>\n",
       "      <th>floor_num</th>\n",
       "      <th>year_built</th>\n",
       "      <th>garage</th>\n",
       "      <th>maid_bathroom</th>\n",
       "      <th>price</th>\n",
       "    </tr>\n",
       "  </thead>\n",
       "  <tbody>\n",
       "    <tr>\n",
       "      <th>count</th>\n",
       "      <td>1012.000000</td>\n",
       "      <td>1012.000000</td>\n",
       "      <td>1012.000000</td>\n",
       "      <td>1012.000000</td>\n",
       "      <td>1012.000000</td>\n",
       "      <td>958.000000</td>\n",
       "      <td>1012.000000</td>\n",
       "      <td>1012.000000</td>\n",
       "      <td>479.000000</td>\n",
       "      <td>1012.000000</td>\n",
       "      <td>1012.000000</td>\n",
       "      <td>1012.000000</td>\n",
       "    </tr>\n",
       "    <tr>\n",
       "      <th>mean</th>\n",
       "      <td>2.925889</td>\n",
       "      <td>2.067194</td>\n",
       "      <td>122.594862</td>\n",
       "      <td>118.142292</td>\n",
       "      <td>0.984190</td>\n",
       "      <td>2408.820459</td>\n",
       "      <td>0.259881</td>\n",
       "      <td>1.523715</td>\n",
       "      <td>2013.446764</td>\n",
       "      <td>0.346838</td>\n",
       "      <td>0.155138</td>\n",
       "      <td>1.419577</td>\n",
       "    </tr>\n",
       "    <tr>\n",
       "      <th>std</th>\n",
       "      <td>1.472948</td>\n",
       "      <td>1.226734</td>\n",
       "      <td>124.939993</td>\n",
       "      <td>141.773560</td>\n",
       "      <td>0.905935</td>\n",
       "      <td>1889.078761</td>\n",
       "      <td>0.493931</td>\n",
       "      <td>0.581984</td>\n",
       "      <td>72.020633</td>\n",
       "      <td>0.671049</td>\n",
       "      <td>0.370317</td>\n",
       "      <td>1.865791</td>\n",
       "    </tr>\n",
       "    <tr>\n",
       "      <th>min</th>\n",
       "      <td>0.000000</td>\n",
       "      <td>0.000000</td>\n",
       "      <td>36.000000</td>\n",
       "      <td>22.000000</td>\n",
       "      <td>0.000000</td>\n",
       "      <td>450.000000</td>\n",
       "      <td>0.000000</td>\n",
       "      <td>0.000000</td>\n",
       "      <td>1111.000000</td>\n",
       "      <td>0.000000</td>\n",
       "      <td>0.000000</td>\n",
       "      <td>0.028000</td>\n",
       "    </tr>\n",
       "    <tr>\n",
       "      <th>25%</th>\n",
       "      <td>2.000000</td>\n",
       "      <td>1.000000</td>\n",
       "      <td>72.000000</td>\n",
       "      <td>54.000000</td>\n",
       "      <td>0.000000</td>\n",
       "      <td>1300.000000</td>\n",
       "      <td>0.000000</td>\n",
       "      <td>1.000000</td>\n",
       "      <td>2019.000000</td>\n",
       "      <td>0.000000</td>\n",
       "      <td>0.000000</td>\n",
       "      <td>0.657500</td>\n",
       "    </tr>\n",
       "    <tr>\n",
       "      <th>50%</th>\n",
       "      <td>3.000000</td>\n",
       "      <td>2.000000</td>\n",
       "      <td>90.000000</td>\n",
       "      <td>82.500000</td>\n",
       "      <td>1.000000</td>\n",
       "      <td>2200.000000</td>\n",
       "      <td>0.000000</td>\n",
       "      <td>2.000000</td>\n",
       "      <td>2022.000000</td>\n",
       "      <td>0.000000</td>\n",
       "      <td>0.000000</td>\n",
       "      <td>0.980000</td>\n",
       "    </tr>\n",
       "    <tr>\n",
       "      <th>75%</th>\n",
       "      <td>3.000000</td>\n",
       "      <td>3.000000</td>\n",
       "      <td>136.000000</td>\n",
       "      <td>130.000000</td>\n",
       "      <td>1.000000</td>\n",
       "      <td>2200.000000</td>\n",
       "      <td>0.000000</td>\n",
       "      <td>2.000000</td>\n",
       "      <td>2023.000000</td>\n",
       "      <td>1.000000</td>\n",
       "      <td>0.000000</td>\n",
       "      <td>1.500000</td>\n",
       "    </tr>\n",
       "    <tr>\n",
       "      <th>max</th>\n",
       "      <td>18.000000</td>\n",
       "      <td>16.000000</td>\n",
       "      <td>2060.000000</td>\n",
       "      <td>2000.000000</td>\n",
       "      <td>10.000000</td>\n",
       "      <td>33000.000000</td>\n",
       "      <td>4.000000</td>\n",
       "      <td>5.000000</td>\n",
       "      <td>2023.000000</td>\n",
       "      <td>7.000000</td>\n",
       "      <td>3.000000</td>\n",
       "      <td>40.000000</td>\n",
       "    </tr>\n",
       "  </tbody>\n",
       "</table>\n",
       "</div>"
      ],
      "text/plain": [
       "           bedroom     bathroom    land_area  building_area      carport  \\\n",
       "count  1012.000000  1012.000000  1012.000000    1012.000000  1012.000000   \n",
       "mean      2.925889     2.067194   122.594862     118.142292     0.984190   \n",
       "std       1.472948     1.226734   124.939993     141.773560     0.905935   \n",
       "min       0.000000     0.000000    36.000000      22.000000     0.000000   \n",
       "25%       2.000000     1.000000    72.000000      54.000000     0.000000   \n",
       "50%       3.000000     2.000000    90.000000      82.500000     1.000000   \n",
       "75%       3.000000     3.000000   136.000000     130.000000     1.000000   \n",
       "max      18.000000    16.000000  2060.000000    2000.000000    10.000000   \n",
       "\n",
       "       electric_power  maid_bedroom    floor_num   year_built       garage  \\\n",
       "count      958.000000   1012.000000  1012.000000   479.000000  1012.000000   \n",
       "mean      2408.820459      0.259881     1.523715  2013.446764     0.346838   \n",
       "std       1889.078761      0.493931     0.581984    72.020633     0.671049   \n",
       "min        450.000000      0.000000     0.000000  1111.000000     0.000000   \n",
       "25%       1300.000000      0.000000     1.000000  2019.000000     0.000000   \n",
       "50%       2200.000000      0.000000     2.000000  2022.000000     0.000000   \n",
       "75%       2200.000000      0.000000     2.000000  2023.000000     1.000000   \n",
       "max      33000.000000      4.000000     5.000000  2023.000000     7.000000   \n",
       "\n",
       "       maid_bathroom        price  \n",
       "count    1012.000000  1012.000000  \n",
       "mean        0.155138     1.419577  \n",
       "std         0.370317     1.865791  \n",
       "min         0.000000     0.028000  \n",
       "25%         0.000000     0.657500  \n",
       "50%         0.000000     0.980000  \n",
       "75%         0.000000     1.500000  \n",
       "max         3.000000    40.000000  "
      ]
     },
     "execution_count": 5,
     "metadata": {},
     "output_type": "execute_result"
    }
   ],
   "source": [
    "house_df.describe()"
   ]
  },
  {
   "cell_type": "markdown",
   "id": "ab11fdad",
   "metadata": {},
   "source": [
    "## Data Preprocessing"
   ]
  },
  {
   "cell_type": "markdown",
   "id": "5d20a006",
   "metadata": {},
   "source": [
    "First, we want to do data preprocessing by apply feature engineering to some features."
   ]
  },
  {
   "cell_type": "code",
   "execution_count": 6,
   "id": "8bdacb64",
   "metadata": {},
   "outputs": [],
   "source": [
    "# Available bedrooms and bathrooms are combined\n",
    "house_df['bedroom'] = house_df['bedroom'] + house_df['maid_bedroom']\n",
    "house_df['bathroom'] = house_df['bathroom'] + house_df['maid_bathroom']\n",
    "\n",
    "house_df.drop(['maid_bedroom', 'maid_bathroom'], axis=1, inplace=True)"
   ]
  },
  {
   "cell_type": "code",
   "execution_count": 7,
   "id": "f5ebc307",
   "metadata": {},
   "outputs": [
    {
     "data": {
      "text/html": [
       "<div>\n",
       "<style scoped>\n",
       "    .dataframe tbody tr th:only-of-type {\n",
       "        vertical-align: middle;\n",
       "    }\n",
       "\n",
       "    .dataframe tbody tr th {\n",
       "        vertical-align: top;\n",
       "    }\n",
       "\n",
       "    .dataframe thead th {\n",
       "        text-align: right;\n",
       "    }\n",
       "</style>\n",
       "<table border=\"1\" class=\"dataframe\">\n",
       "  <thead>\n",
       "    <tr style=\"text-align: right;\">\n",
       "      <th></th>\n",
       "      <th>land_area</th>\n",
       "      <th>building_area</th>\n",
       "    </tr>\n",
       "  </thead>\n",
       "  <tbody>\n",
       "    <tr>\n",
       "      <th>128</th>\n",
       "      <td>169</td>\n",
       "      <td>130</td>\n",
       "    </tr>\n",
       "    <tr>\n",
       "      <th>745</th>\n",
       "      <td>144</td>\n",
       "      <td>100</td>\n",
       "    </tr>\n",
       "    <tr>\n",
       "      <th>444</th>\n",
       "      <td>60</td>\n",
       "      <td>40</td>\n",
       "    </tr>\n",
       "    <tr>\n",
       "      <th>559</th>\n",
       "      <td>84</td>\n",
       "      <td>60</td>\n",
       "    </tr>\n",
       "    <tr>\n",
       "      <th>672</th>\n",
       "      <td>60</td>\n",
       "      <td>45</td>\n",
       "    </tr>\n",
       "    <tr>\n",
       "      <th>99</th>\n",
       "      <td>216</td>\n",
       "      <td>200</td>\n",
       "    </tr>\n",
       "    <tr>\n",
       "      <th>714</th>\n",
       "      <td>85</td>\n",
       "      <td>130</td>\n",
       "    </tr>\n",
       "    <tr>\n",
       "      <th>573</th>\n",
       "      <td>198</td>\n",
       "      <td>180</td>\n",
       "    </tr>\n",
       "    <tr>\n",
       "      <th>905</th>\n",
       "      <td>114</td>\n",
       "      <td>95</td>\n",
       "    </tr>\n",
       "    <tr>\n",
       "      <th>689</th>\n",
       "      <td>108</td>\n",
       "      <td>50</td>\n",
       "    </tr>\n",
       "  </tbody>\n",
       "</table>\n",
       "</div>"
      ],
      "text/plain": [
       "     land_area  building_area\n",
       "128        169            130\n",
       "745        144            100\n",
       "444         60             40\n",
       "559         84             60\n",
       "672         60             45\n",
       "99         216            200\n",
       "714         85            130\n",
       "573        198            180\n",
       "905        114             95\n",
       "689        108             50"
      ]
     },
     "execution_count": 7,
     "metadata": {},
     "output_type": "execute_result"
    }
   ],
   "source": [
    "# Compare land area and building area of all houses\n",
    "house_df[[\"land_area\", \"building_area\"]].sample(10)"
   ]
  },
  {
   "cell_type": "markdown",
   "id": "076543a4",
   "metadata": {},
   "source": [
    "Look at the dataframe above, there are houses whose land area is bigger than building area, also reversely."
   ]
  },
  {
   "cell_type": "code",
   "execution_count": 8,
   "id": "fda2ef2e",
   "metadata": {},
   "outputs": [],
   "source": [
    "# Combine Carport and Garage\n",
    "house_df['car_garage'] = house_df['carport'] + house_df['garage']\n",
    "\n",
    "house_df.drop(['carport', 'garage'], axis=1, inplace=True)"
   ]
  },
  {
   "cell_type": "code",
   "execution_count": 9,
   "id": "f7c156d5",
   "metadata": {},
   "outputs": [
    {
     "name": "stdout",
     "output_type": "stream",
     "text": [
      "Missing values on electric_power (house_df): 54\n",
      "Missing values on electric_power (cleaned_df): 0\n"
     ]
    }
   ],
   "source": [
    "# Electric Power: Obtain data which has no missing value in electric_power column\n",
    "cleaned_df = house_df[house_df['electric_power'].notna()]\n",
    "\n",
    "print(f\"Missing values on electric_power (house_df): {house_df['electric_power'].isnull().sum()}\")\n",
    "print(f\"Missing values on electric_power (cleaned_df): {cleaned_df['electric_power'].isnull().sum()}\")"
   ]
  },
  {
   "cell_type": "markdown",
   "id": "bbdb1a5c",
   "metadata": {},
   "source": [
    "Probably, we can do simple imputation to the electric_power column. Let's check the distribution of electric_power"
   ]
  },
  {
   "cell_type": "code",
   "execution_count": 10,
   "id": "68c97616",
   "metadata": {},
   "outputs": [
    {
     "data": {
      "text/plain": [
       "<seaborn.axisgrid.FacetGrid at 0x21bc8784640>"
      ]
     },
     "execution_count": 10,
     "metadata": {},
     "output_type": "execute_result"
    },
    {
     "data": {
      "image/png": "[encoded data removed]",
      "text/plain": [
       "<Figure size 360x360 with 1 Axes>"
      ]
     },
     "metadata": {
      "needs_background": "light"
     },
     "output_type": "display_data"
    }
   ],
   "source": [
    "sns.displot(cleaned_df['electric_power'])"
   ]
  },
  {
   "cell_type": "code",
   "execution_count": 11,
   "id": "dcc043d9",
   "metadata": {},
   "outputs": [
    {
     "data": {
      "text/html": [
       "<div>\n",
       "<style scoped>\n",
       "    .dataframe tbody tr th:only-of-type {\n",
       "        vertical-align: middle;\n",
       "    }\n",
       "\n",
       "    .dataframe tbody tr th {\n",
       "        vertical-align: top;\n",
       "    }\n",
       "\n",
       "    .dataframe thead th {\n",
       "        text-align: right;\n",
       "    }\n",
       "</style>\n",
       "<table border=\"1\" class=\"dataframe\">\n",
       "  <thead>\n",
       "    <tr style=\"text-align: right;\">\n",
       "      <th></th>\n",
       "      <th>bedroom</th>\n",
       "      <th>bathroom</th>\n",
       "      <th>land_area</th>\n",
       "      <th>building_area</th>\n",
       "      <th>prop_type</th>\n",
       "      <th>certificate</th>\n",
       "      <th>electric_power</th>\n",
       "      <th>floor_num</th>\n",
       "      <th>year_built</th>\n",
       "      <th>prop_cond</th>\n",
       "      <th>furniture_cond</th>\n",
       "      <th>ad_id</th>\n",
       "      <th>facing</th>\n",
       "      <th>price</th>\n",
       "      <th>car_garage</th>\n",
       "    </tr>\n",
       "  </thead>\n",
       "  <tbody>\n",
       "    <tr>\n",
       "      <th>335</th>\n",
       "      <td>9.0</td>\n",
       "      <td>6.0</td>\n",
       "      <td>561</td>\n",
       "      <td>2000</td>\n",
       "      <td>House</td>\n",
       "      <td>SHM - Sertifikat Hak Milik</td>\n",
       "      <td>33000.0</td>\n",
       "      <td>5.0</td>\n",
       "      <td>2005.0</td>\n",
       "      <td>Good</td>\n",
       "      <td>Furnished</td>\n",
       "      <td>hos14154604</td>\n",
       "      <td>NaN</td>\n",
       "      <td>40.0</td>\n",
       "      <td>5.0</td>\n",
       "    </tr>\n",
       "  </tbody>\n",
       "</table>\n",
       "</div>"
      ],
      "text/plain": [
       "     bedroom  bathroom  land_area  building_area prop_type  \\\n",
       "335      9.0       6.0        561           2000     House   \n",
       "\n",
       "                    certificate  electric_power  floor_num  year_built  \\\n",
       "335  SHM - Sertifikat Hak Milik         33000.0        5.0      2005.0   \n",
       "\n",
       "    prop_cond furniture_cond        ad_id facing  price  car_garage  \n",
       "335      Good      Furnished  hos14154604    NaN   40.0         5.0  "
      ]
     },
     "execution_count": 11,
     "metadata": {},
     "output_type": "execute_result"
    }
   ],
   "source": [
    "cleaned_df[cleaned_df['electric_power'] > 30000]"
   ]
  },
  {
   "cell_type": "markdown",
   "id": "56b7566f",
   "metadata": {},
   "source": [
    "For me, this house has spectacular price. So, we want to check the distribution of houses' price."
   ]
  },
  {
   "cell_type": "code",
   "execution_count": 12,
   "id": "0d99d797",
   "metadata": {},
   "outputs": [
    {
     "data": {
      "text/plain": [
       "<seaborn.axisgrid.FacetGrid at 0x21bc8a79490>"
      ]
     },
     "execution_count": 12,
     "metadata": {},
     "output_type": "execute_result"
    },
    {
     "data": {
      "image/png": "[encoded data removed]",
      "text/plain": [
       "<Figure size 360x360 with 1 Axes>"
      ]
     },
     "metadata": {
      "needs_background": "light"
     },
     "output_type": "display_data"
    }
   ],
   "source": [
    "sns.displot(cleaned_df['price'], kind='kde')"
   ]
  },
  {
   "cell_type": "code",
   "execution_count": 13,
   "id": "b9e6ff36",
   "metadata": {},
   "outputs": [
    {
     "data": {
      "text/plain": [
       "(65, 15)"
      ]
     },
     "execution_count": 13,
     "metadata": {},
     "output_type": "execute_result"
    }
   ],
   "source": [
    "cleaned_df[cleaned_df['price'] > 3].shape"
   ]
  },
  {
   "cell_type": "markdown",
   "id": "c13cdf4c",
   "metadata": {},
   "source": [
    "There are **65 houses** getting price of **more than 3 billions rupiah**"
   ]
  },
  {
   "cell_type": "code",
   "execution_count": 14,
   "id": "e227ef27",
   "metadata": {},
   "outputs": [
    {
     "data": {
      "text/plain": [
       "<seaborn.axisgrid.FacetGrid at 0x21bc8ac5460>"
      ]
     },
     "execution_count": 14,
     "metadata": {},
     "output_type": "execute_result"
    },
    {
     "data": {
      "image/png": "[encoded data removed]",
      "text/plain": [
       "<Figure size 360x360 with 1 Axes>"
      ]
     },
     "metadata": {
      "needs_background": "light"
     },
     "output_type": "display_data"
    }
   ],
   "source": [
    "sns.displot(cleaned_df[cleaned_df['price'] < 3]['price'], kind='kde')"
   ]
  },
  {
   "cell_type": "code",
   "execution_count": 15,
   "id": "d111a970",
   "metadata": {},
   "outputs": [
    {
     "data": {
      "text/plain": [
       "<seaborn.axisgrid.FacetGrid at 0x21bc8ad0130>"
      ]
     },
     "execution_count": 15,
     "metadata": {},
     "output_type": "execute_result"
    },
    {
     "data": {
      "image/png": "[encoded data removed]",
      "text/plain": [
       "<Figure size 360x360 with 1 Axes>"
      ]
     },
     "metadata": {
      "needs_background": "light"
     },
     "output_type": "display_data"
    }
   ],
   "source": [
    "sns.displot(cleaned_df[cleaned_df['price'] < 3]['electric_power'], kind='kde')"
   ]
  },
  {
   "cell_type": "markdown",
   "id": "a59f0521",
   "metadata": {},
   "source": [
    "From the distribution plot of houses' price, we can assume **prices** are **distributed normally**. So does **electric_power**, roughly."
   ]
  },
  {
   "cell_type": "code",
   "execution_count": 16,
   "id": "9f29ba75",
   "metadata": {},
   "outputs": [
    {
     "data": {
      "text/plain": [
       "(889, 15)"
      ]
     },
     "execution_count": 16,
     "metadata": {},
     "output_type": "execute_result"
    }
   ],
   "source": [
    "# Therefore, we only take houses whose price is less than 3 billions rupiah\n",
    "cleaned_df = cleaned_df[cleaned_df['price'] < 3]\n",
    "\n",
    "cleaned_df.shape"
   ]
  },
  {
   "cell_type": "markdown",
   "id": "8bb8d90c",
   "metadata": {},
   "source": [
    "#### Handle Missing Values"
   ]
  },
  {
   "cell_type": "code",
   "execution_count": 17,
   "id": "f65f73ff",
   "metadata": {},
   "outputs": [
    {
     "data": {
      "text/plain": [
       "certificate         3\n",
       "year_built        446\n",
       "prop_cond          36\n",
       "furniture_cond    153\n",
       "facing            495\n",
       "dtype: int64"
      ]
     },
     "execution_count": 17,
     "metadata": {},
     "output_type": "execute_result"
    }
   ],
   "source": [
    "# Show all missing values\n",
    "is_null = cleaned_df.isnull().sum()\n",
    "is_null = is_null[is_null > 0].copy()\n",
    "is_null"
   ]
  },
  {
   "cell_type": "markdown",
   "id": "ba178513",
   "metadata": {},
   "source": [
    "##### Categorical Features"
   ]
  },
  {
   "cell_type": "code",
   "execution_count": 18,
   "id": "73c59cd2",
   "metadata": {},
   "outputs": [
    {
     "data": {
      "text/plain": [
       "['certificate', 'prop_cond', 'furniture_cond', 'facing']"
      ]
     },
     "execution_count": 18,
     "metadata": {},
     "output_type": "execute_result"
    }
   ],
   "source": [
    "null_cat_cols = [col for col in is_null.index if col != \"year_built\"]\n",
    "null_cat_cols"
   ]
  },
  {
   "cell_type": "code",
   "execution_count": 19,
   "id": "b72a6db8",
   "metadata": {},
   "outputs": [
    {
     "data": {
      "image/png": "[encoded data removed]",
      "text/plain": [
       "<Figure size 720x576 with 4 Axes>"
      ]
     },
     "metadata": {
      "needs_background": "light"
     },
     "output_type": "display_data"
    }
   ],
   "source": [
    "# Look at the visualization of count plot\n",
    "fig, axs = plt.subplots(math.ceil(len(null_cat_cols) / 2), 2, sharex=True, figsize=(10, 8))\n",
    "\n",
    "count = 0\n",
    "for i in range(math.ceil(len(null_cat_cols) / 2)):\n",
    "    for j in range(2):\n",
    "        col = null_cat_cols[count]\n",
    "        sns.countplot(y=cleaned_df[col], ax=axs[i][j], order=cleaned_df[col].value_counts().index)\n",
    "        axs[i][j].set_title(f\"Count Plot for {col}\")\n",
    "        axs[i][j].set(xlabel=None)\n",
    "        count += 1\n",
    "    \n",
    "fig.tight_layout()\n",
    "plt.show()"
   ]
  },
  {
   "cell_type": "code",
   "execution_count": 20,
   "id": "a2c0f96e",
   "metadata": {},
   "outputs": [
    {
     "data": {
      "text/plain": [
       "array(['SHM - Sertifikat Hak Milik'], dtype=object)"
      ]
     },
     "execution_count": 20,
     "metadata": {},
     "output_type": "execute_result"
    }
   ],
   "source": [
    "cleaned_df['certificate'].mode().values"
   ]
  },
  {
   "cell_type": "code",
   "execution_count": 21,
   "id": "f436dc25",
   "metadata": {},
   "outputs": [],
   "source": [
    "# Simple Imputation: Mode (for each feature above)\n",
    "cleaned_df['certificate'] = cleaned_df['certificate'].fillna(\"SHM - Sertifikat Hak Milik\")\n",
    "cleaned_df['prop_cond'] = cleaned_df['prop_cond'].fillna(\"Good\")\n",
    "cleaned_df['furniture_cond'] = cleaned_df['furniture_cond'].fillna(\"Unfurnished\")\n",
    "cleaned_df['facing'] = cleaned_df['facing'].fillna(\"East\")"
   ]
  },
  {
   "cell_type": "markdown",
   "id": "64e57a54",
   "metadata": {},
   "source": [
    "##### Numerical Features"
   ]
  },
  {
   "cell_type": "code",
   "execution_count": 22,
   "id": "b9b3a19d",
   "metadata": {},
   "outputs": [
    {
     "data": {
      "text/plain": [
       "<seaborn.axisgrid.FacetGrid at 0x21bc913ee80>"
      ]
     },
     "execution_count": 22,
     "metadata": {},
     "output_type": "execute_result"
    },
    {
     "data": {
      "image/png": "[encoded data removed]",
      "text/plain": [
       "<Figure size 360x360 with 1 Axes>"
      ]
     },
     "metadata": {
      "needs_background": "light"
     },
     "output_type": "display_data"
    }
   ],
   "source": [
    "# Year built\n",
    "sns.displot(cleaned_df['year_built'], kind='kde')"
   ]
  },
  {
   "cell_type": "code",
   "execution_count": 23,
   "id": "89f2c35b",
   "metadata": {},
   "outputs": [
    {
     "data": {
      "text/html": [
       "<div>\n",
       "<style scoped>\n",
       "    .dataframe tbody tr th:only-of-type {\n",
       "        vertical-align: middle;\n",
       "    }\n",
       "\n",
       "    .dataframe tbody tr th {\n",
       "        vertical-align: top;\n",
       "    }\n",
       "\n",
       "    .dataframe thead th {\n",
       "        text-align: right;\n",
       "    }\n",
       "</style>\n",
       "<table border=\"1\" class=\"dataframe\">\n",
       "  <thead>\n",
       "    <tr style=\"text-align: right;\">\n",
       "      <th></th>\n",
       "      <th>bedroom</th>\n",
       "      <th>bathroom</th>\n",
       "      <th>land_area</th>\n",
       "      <th>building_area</th>\n",
       "      <th>prop_type</th>\n",
       "      <th>certificate</th>\n",
       "      <th>electric_power</th>\n",
       "      <th>floor_num</th>\n",
       "      <th>year_built</th>\n",
       "      <th>prop_cond</th>\n",
       "      <th>furniture_cond</th>\n",
       "      <th>ad_id</th>\n",
       "      <th>facing</th>\n",
       "      <th>price</th>\n",
       "      <th>car_garage</th>\n",
       "    </tr>\n",
       "  </thead>\n",
       "  <tbody>\n",
       "    <tr>\n",
       "      <th>641</th>\n",
       "      <td>5.0</td>\n",
       "      <td>5.0</td>\n",
       "      <td>227</td>\n",
       "      <td>227</td>\n",
       "      <td>House</td>\n",
       "      <td>SHM - Sertifikat Hak Milik</td>\n",
       "      <td>4400.0</td>\n",
       "      <td>2.0</td>\n",
       "      <td>1111.0</td>\n",
       "      <td>Renovated</td>\n",
       "      <td>Semi Furnished</td>\n",
       "      <td>hos14355391</td>\n",
       "      <td>East</td>\n",
       "      <td>2.35</td>\n",
       "      <td>1.0</td>\n",
       "    </tr>\n",
       "    <tr>\n",
       "      <th>998</th>\n",
       "      <td>1.0</td>\n",
       "      <td>1.0</td>\n",
       "      <td>220</td>\n",
       "      <td>120</td>\n",
       "      <td>House</td>\n",
       "      <td>SHM - Sertifikat Hak Milik</td>\n",
       "      <td>3500.0</td>\n",
       "      <td>2.0</td>\n",
       "      <td>1111.0</td>\n",
       "      <td>Renovated</td>\n",
       "      <td>Semi Furnished</td>\n",
       "      <td>hos14241568</td>\n",
       "      <td>West</td>\n",
       "      <td>2.00</td>\n",
       "      <td>0.0</td>\n",
       "    </tr>\n",
       "    <tr>\n",
       "      <th>999</th>\n",
       "      <td>3.0</td>\n",
       "      <td>2.0</td>\n",
       "      <td>81</td>\n",
       "      <td>120</td>\n",
       "      <td>House</td>\n",
       "      <td>SHM - Sertifikat Hak Milik</td>\n",
       "      <td>2200.0</td>\n",
       "      <td>2.0</td>\n",
       "      <td>1111.0</td>\n",
       "      <td>Good</td>\n",
       "      <td>Semi Furnished</td>\n",
       "      <td>hos14241498</td>\n",
       "      <td>East</td>\n",
       "      <td>1.25</td>\n",
       "      <td>1.0</td>\n",
       "    </tr>\n",
       "  </tbody>\n",
       "</table>\n",
       "</div>"
      ],
      "text/plain": [
       "     bedroom  bathroom  land_area  building_area prop_type  \\\n",
       "641      5.0       5.0        227            227     House   \n",
       "998      1.0       1.0        220            120     House   \n",
       "999      3.0       2.0         81            120     House   \n",
       "\n",
       "                    certificate  electric_power  floor_num  year_built  \\\n",
       "641  SHM - Sertifikat Hak Milik          4400.0        2.0      1111.0   \n",
       "998  SHM - Sertifikat Hak Milik          3500.0        2.0      1111.0   \n",
       "999  SHM - Sertifikat Hak Milik          2200.0        2.0      1111.0   \n",
       "\n",
       "     prop_cond  furniture_cond        ad_id facing  price  car_garage  \n",
       "641  Renovated  Semi Furnished  hos14355391   East   2.35         1.0  \n",
       "998  Renovated  Semi Furnished  hos14241568   West   2.00         0.0  \n",
       "999       Good  Semi Furnished  hos14241498   East   1.25         1.0  "
      ]
     },
     "execution_count": 23,
     "metadata": {},
     "output_type": "execute_result"
    }
   ],
   "source": [
    "# Let's check if there is any house whose year built is in year less than 1900\n",
    "cleaned_df[cleaned_df['year_built'] < 1900]"
   ]
  },
  {
   "cell_type": "markdown",
   "id": "bb51bc7a",
   "metadata": {},
   "source": [
    "I think removing these rows will not do any harm. So, let's do that!"
   ]
  },
  {
   "cell_type": "code",
   "execution_count": 24,
   "id": "fa6ba35e",
   "metadata": {},
   "outputs": [
    {
     "data": {
      "text/plain": [
       "<seaborn.axisgrid.FacetGrid at 0x21bc9133fa0>"
      ]
     },
     "execution_count": 24,
     "metadata": {},
     "output_type": "execute_result"
    },
    {
     "data": {
      "image/png": "[encoded data removed]",
      "text/plain": [
       "<Figure size 360x360 with 1 Axes>"
      ]
     },
     "metadata": {
      "needs_background": "light"
     },
     "output_type": "display_data"
    }
   ],
   "source": [
    "# Remove any rows whose index is in (641, 998, 999)\n",
    "cleaned_df.drop([641, 998, 999], inplace=True)\n",
    "\n",
    "# Let's see the real distribution plot once again\n",
    "sns.displot(cleaned_df['year_built'], kind='kde')"
   ]
  },
  {
   "cell_type": "code",
   "execution_count": 25,
   "id": "fe0c4031",
   "metadata": {},
   "outputs": [
    {
     "data": {
      "text/plain": [
       "<seaborn.axisgrid.FacetGrid at 0x21bc918d790>"
      ]
     },
     "execution_count": 25,
     "metadata": {},
     "output_type": "execute_result"
    },
    {
     "data": {
      "image/png": "[encoded data removed]",
      "text/plain": [
       "<Figure size 360x360 with 1 Axes>"
      ]
     },
     "metadata": {
      "needs_background": "light"
     },
     "output_type": "display_data"
    }
   ],
   "source": [
    "# Since the distribution plot show a sign of there is left skewness, then we want to impute the NaN values by **MEDIAN**\n",
    "cleaned_df['year_built'] = cleaned_df['year_built'].fillna(round(cleaned_df['year_built'].median()))\n",
    "\n",
    "# Let's see the real distribution plot once again\n",
    "sns.displot(cleaned_df['year_built'], kind='kde')"
   ]
  },
  {
   "cell_type": "code",
   "execution_count": 26,
   "id": "2d4113a1",
   "metadata": {},
   "outputs": [
    {
     "data": {
      "text/plain": [
       "bedroom           0\n",
       "bathroom          0\n",
       "land_area         0\n",
       "building_area     0\n",
       "prop_type         0\n",
       "certificate       0\n",
       "electric_power    0\n",
       "floor_num         0\n",
       "year_built        0\n",
       "prop_cond         0\n",
       "furniture_cond    0\n",
       "ad_id             0\n",
       "facing            0\n",
       "price             0\n",
       "car_garage        0\n",
       "dtype: int64"
      ]
     },
     "execution_count": 26,
     "metadata": {},
     "output_type": "execute_result"
    }
   ],
   "source": [
    "cleaned_df.isnull().sum()"
   ]
  },
  {
   "cell_type": "markdown",
   "id": "cd816e7e",
   "metadata": {},
   "source": [
    "Missing values are clearly handled."
   ]
  },
  {
   "cell_type": "markdown",
   "id": "63aea85e",
   "metadata": {},
   "source": [
    "## Checkpoint"
   ]
  },
  {
   "cell_type": "code",
   "execution_count": 27,
   "id": "8f6e4ec4",
   "metadata": {},
   "outputs": [
    {
     "data": {
      "text/html": [
       "<div>\n",
       "<style scoped>\n",
       "    .dataframe tbody tr th:only-of-type {\n",
       "        vertical-align: middle;\n",
       "    }\n",
       "\n",
       "    .dataframe tbody tr th {\n",
       "        vertical-align: top;\n",
       "    }\n",
       "\n",
       "    .dataframe thead th {\n",
       "        text-align: right;\n",
       "    }\n",
       "</style>\n",
       "<table border=\"1\" class=\"dataframe\">\n",
       "  <thead>\n",
       "    <tr style=\"text-align: right;\">\n",
       "      <th></th>\n",
       "      <th>bedroom</th>\n",
       "      <th>bathroom</th>\n",
       "      <th>land_area</th>\n",
       "      <th>building_area</th>\n",
       "      <th>prop_type</th>\n",
       "      <th>certificate</th>\n",
       "      <th>electric_power</th>\n",
       "      <th>floor_num</th>\n",
       "      <th>year_built</th>\n",
       "      <th>prop_cond</th>\n",
       "      <th>furniture_cond</th>\n",
       "      <th>ad_id</th>\n",
       "      <th>facing</th>\n",
       "      <th>price</th>\n",
       "      <th>car_garage</th>\n",
       "    </tr>\n",
       "  </thead>\n",
       "  <tbody>\n",
       "    <tr>\n",
       "      <th>0</th>\n",
       "      <td>4.0</td>\n",
       "      <td>3.0</td>\n",
       "      <td>77</td>\n",
       "      <td>112</td>\n",
       "      <td>House</td>\n",
       "      <td>SHM - Sertifikat Hak Milik</td>\n",
       "      <td>2200.0</td>\n",
       "      <td>2.0</td>\n",
       "      <td>2021.0</td>\n",
       "      <td>Good</td>\n",
       "      <td>Semi Furnished</td>\n",
       "      <td>hos14357221</td>\n",
       "      <td>East</td>\n",
       "      <td>1.350</td>\n",
       "      <td>2.0</td>\n",
       "    </tr>\n",
       "    <tr>\n",
       "      <th>1</th>\n",
       "      <td>3.0</td>\n",
       "      <td>3.0</td>\n",
       "      <td>73</td>\n",
       "      <td>93</td>\n",
       "      <td>House</td>\n",
       "      <td>SHM - Sertifikat Hak Milik</td>\n",
       "      <td>2200.0</td>\n",
       "      <td>2.0</td>\n",
       "      <td>2023.0</td>\n",
       "      <td>New</td>\n",
       "      <td>Unfurnished</td>\n",
       "      <td>hos13901815</td>\n",
       "      <td>East</td>\n",
       "      <td>0.995</td>\n",
       "      <td>0.0</td>\n",
       "    </tr>\n",
       "    <tr>\n",
       "      <th>2</th>\n",
       "      <td>2.0</td>\n",
       "      <td>2.0</td>\n",
       "      <td>105</td>\n",
       "      <td>90</td>\n",
       "      <td>House</td>\n",
       "      <td>SHM - Sertifikat Hak Milik</td>\n",
       "      <td>2200.0</td>\n",
       "      <td>2.0</td>\n",
       "      <td>2023.0</td>\n",
       "      <td>Renovated</td>\n",
       "      <td>Unfurnished</td>\n",
       "      <td>hos14186873</td>\n",
       "      <td>South</td>\n",
       "      <td>1.020</td>\n",
       "      <td>3.0</td>\n",
       "    </tr>\n",
       "    <tr>\n",
       "      <th>3</th>\n",
       "      <td>4.0</td>\n",
       "      <td>3.0</td>\n",
       "      <td>210</td>\n",
       "      <td>150</td>\n",
       "      <td>House</td>\n",
       "      <td>SHM - Sertifikat Hak Milik</td>\n",
       "      <td>2200.0</td>\n",
       "      <td>1.0</td>\n",
       "      <td>2023.0</td>\n",
       "      <td>Good</td>\n",
       "      <td>Unfurnished</td>\n",
       "      <td>hos14314243</td>\n",
       "      <td>East</td>\n",
       "      <td>1.500</td>\n",
       "      <td>0.0</td>\n",
       "    </tr>\n",
       "    <tr>\n",
       "      <th>4</th>\n",
       "      <td>2.0</td>\n",
       "      <td>2.0</td>\n",
       "      <td>60</td>\n",
       "      <td>50</td>\n",
       "      <td>House</td>\n",
       "      <td>SHM - Sertifikat Hak Milik</td>\n",
       "      <td>2200.0</td>\n",
       "      <td>2.0</td>\n",
       "      <td>2023.0</td>\n",
       "      <td>Good</td>\n",
       "      <td>Unfurnished</td>\n",
       "      <td>hos13940617</td>\n",
       "      <td>North</td>\n",
       "      <td>1.100</td>\n",
       "      <td>1.0</td>\n",
       "    </tr>\n",
       "  </tbody>\n",
       "</table>\n",
       "</div>"
      ],
      "text/plain": [
       "   bedroom  bathroom  land_area  building_area prop_type  \\\n",
       "0      4.0       3.0         77            112     House   \n",
       "1      3.0       3.0         73             93     House   \n",
       "2      2.0       2.0        105             90     House   \n",
       "3      4.0       3.0        210            150     House   \n",
       "4      2.0       2.0         60             50     House   \n",
       "\n",
       "                  certificate  electric_power  floor_num  year_built  \\\n",
       "0  SHM - Sertifikat Hak Milik          2200.0        2.0      2021.0   \n",
       "1  SHM - Sertifikat Hak Milik          2200.0        2.0      2023.0   \n",
       "2  SHM - Sertifikat Hak Milik          2200.0        2.0      2023.0   \n",
       "3  SHM - Sertifikat Hak Milik          2200.0        1.0      2023.0   \n",
       "4  SHM - Sertifikat Hak Milik          2200.0        2.0      2023.0   \n",
       "\n",
       "   prop_cond  furniture_cond        ad_id facing  price  car_garage  \n",
       "0       Good  Semi Furnished  hos14357221   East  1.350         2.0  \n",
       "1        New     Unfurnished  hos13901815   East  0.995         0.0  \n",
       "2  Renovated     Unfurnished  hos14186873  South  1.020         3.0  \n",
       "3       Good     Unfurnished  hos14314243   East  1.500         0.0  \n",
       "4       Good     Unfurnished  hos13940617  North  1.100         1.0  "
      ]
     },
     "execution_count": 27,
     "metadata": {},
     "output_type": "execute_result"
    }
   ],
   "source": [
    "cleaned_df.head()"
   ]
  },
  {
   "cell_type": "code",
   "execution_count": 28,
   "id": "563e6874",
   "metadata": {},
   "outputs": [
    {
     "data": {
      "text/plain": [
       "(886, 15)"
      ]
     },
     "execution_count": 28,
     "metadata": {},
     "output_type": "execute_result"
    }
   ],
   "source": [
    "cleaned_df.shape"
   ]
  }
 ],
 "metadata": {
  "kernelspec": {
   "display_name": "Python 3 (ipykernel)",
   "language": "python",
   "name": "python3"
  },
  "language_info": {
   "codemirror_mode": {
    "name": "ipython",
    "version": 3
   },
   "file_extension": ".py",
   "mimetype": "text/x-python",
   "name": "python",
   "nbconvert_exporter": "python",
   "pygments_lexer": "ipython3",
   "version": "3.9.12"
  }
 },
 "nbformat": 4,
 "nbformat_minor": 5
}
