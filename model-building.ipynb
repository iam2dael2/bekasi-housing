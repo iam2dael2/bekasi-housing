{
 "cells": [
  {
   "cell_type": "markdown",
   "id": "a40ecedd",
   "metadata": {},
   "source": [
    "## Import Relevant Libraries"
   ]
  },
  {
   "cell_type": "code",
   "execution_count": 1,
   "id": "8e384a0c",
   "metadata": {},
   "outputs": [],
   "source": [
    "import numpy as np\n",
    "import pandas as pd\n",
    "import matplotlib.pyplot as plt\n",
    "import seaborn as sns\n",
    "%matplotlib inline"
   ]
  },
  {
   "cell_type": "markdown",
   "id": "383c9127",
   "metadata": {},
   "source": [
    "## Read CSV"
   ]
  },
  {
   "cell_type": "code",
   "execution_count": 2,
   "id": "639b7d9c",
   "metadata": {},
   "outputs": [
    {
     "data": {
      "text/html": [
       "<div>\n",
       "<style scoped>\n",
       "    .dataframe tbody tr th:only-of-type {\n",
       "        vertical-align: middle;\n",
       "    }\n",
       "\n",
       "    .dataframe tbody tr th {\n",
       "        vertical-align: top;\n",
       "    }\n",
       "\n",
       "    .dataframe thead th {\n",
       "        text-align: right;\n",
       "    }\n",
       "</style>\n",
       "<table border=\"1\" class=\"dataframe\">\n",
       "  <thead>\n",
       "    <tr style=\"text-align: right;\">\n",
       "      <th></th>\n",
       "      <th>bedroom</th>\n",
       "      <th>bathroom</th>\n",
       "      <th>land_area</th>\n",
       "      <th>building_area</th>\n",
       "      <th>certificate</th>\n",
       "      <th>electric_power</th>\n",
       "      <th>floor_num</th>\n",
       "      <th>prop_cond</th>\n",
       "      <th>furniture_cond</th>\n",
       "      <th>facing</th>\n",
       "      <th>price</th>\n",
       "    </tr>\n",
       "  </thead>\n",
       "  <tbody>\n",
       "    <tr>\n",
       "      <th>0</th>\n",
       "      <td>4.0</td>\n",
       "      <td>3.0</td>\n",
       "      <td>77</td>\n",
       "      <td>112</td>\n",
       "      <td>SHM - Sertifikat Hak Milik</td>\n",
       "      <td>2200.0</td>\n",
       "      <td>2.0</td>\n",
       "      <td>Good</td>\n",
       "      <td>Semi Furnished</td>\n",
       "      <td>East</td>\n",
       "      <td>1.350</td>\n",
       "    </tr>\n",
       "    <tr>\n",
       "      <th>1</th>\n",
       "      <td>3.0</td>\n",
       "      <td>3.0</td>\n",
       "      <td>73</td>\n",
       "      <td>93</td>\n",
       "      <td>SHM - Sertifikat Hak Milik</td>\n",
       "      <td>2200.0</td>\n",
       "      <td>2.0</td>\n",
       "      <td>New</td>\n",
       "      <td>Unfurnished</td>\n",
       "      <td>East</td>\n",
       "      <td>0.995</td>\n",
       "    </tr>\n",
       "    <tr>\n",
       "      <th>2</th>\n",
       "      <td>2.0</td>\n",
       "      <td>2.0</td>\n",
       "      <td>105</td>\n",
       "      <td>90</td>\n",
       "      <td>SHM - Sertifikat Hak Milik</td>\n",
       "      <td>2200.0</td>\n",
       "      <td>2.0</td>\n",
       "      <td>Renovated</td>\n",
       "      <td>Unfurnished</td>\n",
       "      <td>South</td>\n",
       "      <td>1.020</td>\n",
       "    </tr>\n",
       "    <tr>\n",
       "      <th>3</th>\n",
       "      <td>4.0</td>\n",
       "      <td>3.0</td>\n",
       "      <td>210</td>\n",
       "      <td>150</td>\n",
       "      <td>SHM - Sertifikat Hak Milik</td>\n",
       "      <td>2200.0</td>\n",
       "      <td>1.0</td>\n",
       "      <td>Good</td>\n",
       "      <td>Unfurnished</td>\n",
       "      <td>East</td>\n",
       "      <td>1.500</td>\n",
       "    </tr>\n",
       "    <tr>\n",
       "      <th>4</th>\n",
       "      <td>2.0</td>\n",
       "      <td>2.0</td>\n",
       "      <td>60</td>\n",
       "      <td>50</td>\n",
       "      <td>SHM - Sertifikat Hak Milik</td>\n",
       "      <td>2200.0</td>\n",
       "      <td>2.0</td>\n",
       "      <td>Good</td>\n",
       "      <td>Unfurnished</td>\n",
       "      <td>North</td>\n",
       "      <td>1.100</td>\n",
       "    </tr>\n",
       "  </tbody>\n",
       "</table>\n",
       "</div>"
      ],
      "text/plain": [
       "   bedroom  bathroom  land_area  building_area                 certificate  \\\n",
       "0      4.0       3.0         77            112  SHM - Sertifikat Hak Milik   \n",
       "1      3.0       3.0         73             93  SHM - Sertifikat Hak Milik   \n",
       "2      2.0       2.0        105             90  SHM - Sertifikat Hak Milik   \n",
       "3      4.0       3.0        210            150  SHM - Sertifikat Hak Milik   \n",
       "4      2.0       2.0         60             50  SHM - Sertifikat Hak Milik   \n",
       "\n",
       "   electric_power  floor_num  prop_cond  furniture_cond facing  price  \n",
       "0          2200.0        2.0       Good  Semi Furnished   East  1.350  \n",
       "1          2200.0        2.0        New     Unfurnished   East  0.995  \n",
       "2          2200.0        2.0  Renovated     Unfurnished  South  1.020  \n",
       "3          2200.0        1.0       Good     Unfurnished   East  1.500  \n",
       "4          2200.0        2.0       Good     Unfurnished  North  1.100  "
      ]
     },
     "execution_count": 2,
     "metadata": {},
     "output_type": "execute_result"
    }
   ],
   "source": [
    "data = pd.read_csv(\"bekasi-house-preprocessed.csv\")\n",
    "data.head()"
   ]
  },
  {
   "cell_type": "code",
   "execution_count": 3,
   "id": "4dd3ad7e",
   "metadata": {},
   "outputs": [
    {
     "data": {
      "text/plain": [
       "(823, 11)"
      ]
     },
     "execution_count": 3,
     "metadata": {},
     "output_type": "execute_result"
    }
   ],
   "source": [
    "data.shape"
   ]
  },
  {
   "cell_type": "code",
   "execution_count": 4,
   "id": "308e978b",
   "metadata": {},
   "outputs": [
    {
     "name": "stdout",
     "output_type": "stream",
     "text": [
      "<class 'pandas.core.frame.DataFrame'>\n",
      "RangeIndex: 823 entries, 0 to 822\n",
      "Data columns (total 11 columns):\n",
      " #   Column          Non-Null Count  Dtype  \n",
      "---  ------          --------------  -----  \n",
      " 0   bedroom         823 non-null    float64\n",
      " 1   bathroom        823 non-null    float64\n",
      " 2   land_area       823 non-null    int64  \n",
      " 3   building_area   823 non-null    int64  \n",
      " 4   certificate     823 non-null    object \n",
      " 5   electric_power  823 non-null    float64\n",
      " 6   floor_num       823 non-null    float64\n",
      " 7   prop_cond       823 non-null    object \n",
      " 8   furniture_cond  823 non-null    object \n",
      " 9   facing          823 non-null    object \n",
      " 10  price           823 non-null    float64\n",
      "dtypes: float64(5), int64(2), object(4)\n",
      "memory usage: 70.9+ KB\n"
     ]
    }
   ],
   "source": [
    "data.info()"
   ]
  },
  {
   "cell_type": "markdown",
   "id": "fbc96f3f",
   "metadata": {},
   "source": [
    "There are no missing values in data. Therefore, this data is already cleaned.\n",
    "<br><br>\n",
    "However, we need to do **another preprocessing** to be able to do model building."
   ]
  },
  {
   "cell_type": "code",
   "execution_count": 5,
   "id": "91180496",
   "metadata": {},
   "outputs": [
    {
     "data": {
      "text/plain": [
       "<AxesSubplot:>"
      ]
     },
     "execution_count": 5,
     "metadata": {},
     "output_type": "execute_result"
    },
    {
     "data": {
      "image/png": "[encoded data removed]",
      "text/plain": [
       "<Figure size 720x432 with 2 Axes>"
      ]
     },
     "metadata": {
      "needs_background": "light"
     },
     "output_type": "display_data"
    }
   ],
   "source": [
    "plt.figure(figsize=(10, 6))\n",
    "sns.heatmap(data.corr(), annot=True)"
   ]
  },
  {
   "cell_type": "markdown",
   "id": "2c30683c",
   "metadata": {},
   "source": [
    "It seems that **\"land-to-build ratio\"** and **\"bedroom-to-bathroom ratio\"** can be considered to be significant features for **house price** prediction."
   ]
  },
  {
   "cell_type": "code",
   "execution_count": 6,
   "id": "6e498557",
   "metadata": {},
   "outputs": [],
   "source": [
    "import warnings\n",
    "warnings.filterwarnings(\"ignore\")"
   ]
  },
  {
   "cell_type": "markdown",
   "id": "183f604e",
   "metadata": {},
   "source": [
    "## Data Preprocessing (1)"
   ]
  },
  {
   "cell_type": "code",
   "execution_count": 7,
   "id": "a0738834",
   "metadata": {},
   "outputs": [],
   "source": [
    "# Land to build ratio\n",
    "data[\"land_build_ratio\"] = data[\"land_area\"] / data[\"building_area\"]\n",
    "\n",
    "# Bedroom to bathroom ratio\n",
    "data[\"bed_bath_ratio\"] = data[\"bedroom\"] / data[\"bathroom\"]"
   ]
  },
  {
   "cell_type": "code",
   "execution_count": 8,
   "id": "879c123e",
   "metadata": {},
   "outputs": [
    {
     "data": {
      "text/html": [
       "<div>\n",
       "<style scoped>\n",
       "    .dataframe tbody tr th:only-of-type {\n",
       "        vertical-align: middle;\n",
       "    }\n",
       "\n",
       "    .dataframe tbody tr th {\n",
       "        vertical-align: top;\n",
       "    }\n",
       "\n",
       "    .dataframe thead th {\n",
       "        text-align: right;\n",
       "    }\n",
       "</style>\n",
       "<table border=\"1\" class=\"dataframe\">\n",
       "  <thead>\n",
       "    <tr style=\"text-align: right;\">\n",
       "      <th></th>\n",
       "      <th>bedroom</th>\n",
       "      <th>bathroom</th>\n",
       "      <th>land_area</th>\n",
       "      <th>building_area</th>\n",
       "      <th>certificate</th>\n",
       "      <th>electric_power</th>\n",
       "      <th>floor_num</th>\n",
       "      <th>prop_cond</th>\n",
       "      <th>furniture_cond</th>\n",
       "      <th>facing</th>\n",
       "      <th>price</th>\n",
       "      <th>land_build_ratio</th>\n",
       "      <th>bed_bath_ratio</th>\n",
       "    </tr>\n",
       "  </thead>\n",
       "  <tbody>\n",
       "    <tr>\n",
       "      <th>0</th>\n",
       "      <td>4.0</td>\n",
       "      <td>3.0</td>\n",
       "      <td>77</td>\n",
       "      <td>112</td>\n",
       "      <td>SHM - Sertifikat Hak Milik</td>\n",
       "      <td>2200.0</td>\n",
       "      <td>2.0</td>\n",
       "      <td>Good</td>\n",
       "      <td>Semi Furnished</td>\n",
       "      <td>East</td>\n",
       "      <td>1.350</td>\n",
       "      <td>0.687500</td>\n",
       "      <td>1.333333</td>\n",
       "    </tr>\n",
       "    <tr>\n",
       "      <th>1</th>\n",
       "      <td>3.0</td>\n",
       "      <td>3.0</td>\n",
       "      <td>73</td>\n",
       "      <td>93</td>\n",
       "      <td>SHM - Sertifikat Hak Milik</td>\n",
       "      <td>2200.0</td>\n",
       "      <td>2.0</td>\n",
       "      <td>New</td>\n",
       "      <td>Unfurnished</td>\n",
       "      <td>East</td>\n",
       "      <td>0.995</td>\n",
       "      <td>0.784946</td>\n",
       "      <td>1.000000</td>\n",
       "    </tr>\n",
       "    <tr>\n",
       "      <th>2</th>\n",
       "      <td>2.0</td>\n",
       "      <td>2.0</td>\n",
       "      <td>105</td>\n",
       "      <td>90</td>\n",
       "      <td>SHM - Sertifikat Hak Milik</td>\n",
       "      <td>2200.0</td>\n",
       "      <td>2.0</td>\n",
       "      <td>Renovated</td>\n",
       "      <td>Unfurnished</td>\n",
       "      <td>South</td>\n",
       "      <td>1.020</td>\n",
       "      <td>1.166667</td>\n",
       "      <td>1.000000</td>\n",
       "    </tr>\n",
       "    <tr>\n",
       "      <th>3</th>\n",
       "      <td>4.0</td>\n",
       "      <td>3.0</td>\n",
       "      <td>210</td>\n",
       "      <td>150</td>\n",
       "      <td>SHM - Sertifikat Hak Milik</td>\n",
       "      <td>2200.0</td>\n",
       "      <td>1.0</td>\n",
       "      <td>Good</td>\n",
       "      <td>Unfurnished</td>\n",
       "      <td>East</td>\n",
       "      <td>1.500</td>\n",
       "      <td>1.400000</td>\n",
       "      <td>1.333333</td>\n",
       "    </tr>\n",
       "    <tr>\n",
       "      <th>4</th>\n",
       "      <td>2.0</td>\n",
       "      <td>2.0</td>\n",
       "      <td>60</td>\n",
       "      <td>50</td>\n",
       "      <td>SHM - Sertifikat Hak Milik</td>\n",
       "      <td>2200.0</td>\n",
       "      <td>2.0</td>\n",
       "      <td>Good</td>\n",
       "      <td>Unfurnished</td>\n",
       "      <td>North</td>\n",
       "      <td>1.100</td>\n",
       "      <td>1.200000</td>\n",
       "      <td>1.000000</td>\n",
       "    </tr>\n",
       "  </tbody>\n",
       "</table>\n",
       "</div>"
      ],
      "text/plain": [
       "   bedroom  bathroom  land_area  building_area                 certificate  \\\n",
       "0      4.0       3.0         77            112  SHM - Sertifikat Hak Milik   \n",
       "1      3.0       3.0         73             93  SHM - Sertifikat Hak Milik   \n",
       "2      2.0       2.0        105             90  SHM - Sertifikat Hak Milik   \n",
       "3      4.0       3.0        210            150  SHM - Sertifikat Hak Milik   \n",
       "4      2.0       2.0         60             50  SHM - Sertifikat Hak Milik   \n",
       "\n",
       "   electric_power  floor_num  prop_cond  furniture_cond facing  price  \\\n",
       "0          2200.0        2.0       Good  Semi Furnished   East  1.350   \n",
       "1          2200.0        2.0        New     Unfurnished   East  0.995   \n",
       "2          2200.0        2.0  Renovated     Unfurnished  South  1.020   \n",
       "3          2200.0        1.0       Good     Unfurnished   East  1.500   \n",
       "4          2200.0        2.0       Good     Unfurnished  North  1.100   \n",
       "\n",
       "   land_build_ratio  bed_bath_ratio  \n",
       "0          0.687500        1.333333  \n",
       "1          0.784946        1.000000  \n",
       "2          1.166667        1.000000  \n",
       "3          1.400000        1.333333  \n",
       "4          1.200000        1.000000  "
      ]
     },
     "execution_count": 8,
     "metadata": {},
     "output_type": "execute_result"
    }
   ],
   "source": [
    "data.head()"
   ]
  },
  {
   "cell_type": "code",
   "execution_count": 9,
   "id": "eb9c9b62",
   "metadata": {},
   "outputs": [
    {
     "data": {
      "text/plain": [
       "<AxesSubplot:>"
      ]
     },
     "execution_count": 9,
     "metadata": {},
     "output_type": "execute_result"
    },
    {
     "data": {
      "image/png": "[encoded data removed]",
      "text/plain": [
       "<Figure size 1008x576 with 2 Axes>"
      ]
     },
     "metadata": {
      "needs_background": "light"
     },
     "output_type": "display_data"
    }
   ],
   "source": [
    "plt.figure(figsize=(14, 8))\n",
    "sns.heatmap(data.corr(), annot=True)"
   ]
  },
  {
   "cell_type": "markdown",
   "id": "74d4a4b1",
   "metadata": {},
   "source": [
    "Based on the correlation plot, **land_build_ratio** and **bed_bath_ratio** are not good enough to predict the house price. Also, **facing** columns is not suited to be one of features to predict the price."
   ]
  },
  {
   "cell_type": "code",
   "execution_count": 10,
   "id": "101299f0",
   "metadata": {},
   "outputs": [],
   "source": [
    "data.drop([\"land_build_ratio\", \"bed_bath_ratio\", \"facing\"], axis=1, inplace=True)"
   ]
  },
  {
   "cell_type": "markdown",
   "id": "d411ca68",
   "metadata": {},
   "source": [
    "## Train Test Split"
   ]
  },
  {
   "cell_type": "code",
   "execution_count": 11,
   "id": "fecfbc0b",
   "metadata": {},
   "outputs": [],
   "source": [
    "from sklearn.model_selection import train_test_split\n",
    "\n",
    "# Define features\n",
    "X = data.drop(\"price\", axis=1)\n",
    "Y = data[\"price\"]\n",
    "\n",
    "X_train, X_test, Y_train, Y_test = train_test_split(X, Y, test_size=0.2, random_state=42)"
   ]
  },
  {
   "cell_type": "code",
   "execution_count": 12,
   "id": "d0e3f681",
   "metadata": {},
   "outputs": [
    {
     "data": {
      "text/html": [
       "<div>\n",
       "<style scoped>\n",
       "    .dataframe tbody tr th:only-of-type {\n",
       "        vertical-align: middle;\n",
       "    }\n",
       "\n",
       "    .dataframe tbody tr th {\n",
       "        vertical-align: top;\n",
       "    }\n",
       "\n",
       "    .dataframe thead th {\n",
       "        text-align: right;\n",
       "    }\n",
       "</style>\n",
       "<table border=\"1\" class=\"dataframe\">\n",
       "  <thead>\n",
       "    <tr style=\"text-align: right;\">\n",
       "      <th></th>\n",
       "      <th>bedroom</th>\n",
       "      <th>bathroom</th>\n",
       "      <th>land_area</th>\n",
       "      <th>building_area</th>\n",
       "      <th>certificate</th>\n",
       "      <th>electric_power</th>\n",
       "      <th>floor_num</th>\n",
       "      <th>prop_cond</th>\n",
       "      <th>furniture_cond</th>\n",
       "    </tr>\n",
       "  </thead>\n",
       "  <tbody>\n",
       "    <tr>\n",
       "      <th>239</th>\n",
       "      <td>3.0</td>\n",
       "      <td>2.0</td>\n",
       "      <td>100</td>\n",
       "      <td>83</td>\n",
       "      <td>SHM - Sertifikat Hak Milik</td>\n",
       "      <td>2200.0</td>\n",
       "      <td>2.0</td>\n",
       "      <td>Renovated</td>\n",
       "      <td>Unfurnished</td>\n",
       "    </tr>\n",
       "    <tr>\n",
       "      <th>707</th>\n",
       "      <td>3.0</td>\n",
       "      <td>3.0</td>\n",
       "      <td>61</td>\n",
       "      <td>90</td>\n",
       "      <td>SHM - Sertifikat Hak Milik</td>\n",
       "      <td>2200.0</td>\n",
       "      <td>2.0</td>\n",
       "      <td>New</td>\n",
       "      <td>Unfurnished</td>\n",
       "    </tr>\n",
       "    <tr>\n",
       "      <th>759</th>\n",
       "      <td>2.0</td>\n",
       "      <td>1.0</td>\n",
       "      <td>90</td>\n",
       "      <td>85</td>\n",
       "      <td>SHM - Sertifikat Hak Milik</td>\n",
       "      <td>1300.0</td>\n",
       "      <td>1.0</td>\n",
       "      <td>Good</td>\n",
       "      <td>Unfurnished</td>\n",
       "    </tr>\n",
       "    <tr>\n",
       "      <th>432</th>\n",
       "      <td>2.0</td>\n",
       "      <td>1.0</td>\n",
       "      <td>80</td>\n",
       "      <td>55</td>\n",
       "      <td>SHM - Sertifikat Hak Milik</td>\n",
       "      <td>2200.0</td>\n",
       "      <td>1.0</td>\n",
       "      <td>Good</td>\n",
       "      <td>Unfurnished</td>\n",
       "    </tr>\n",
       "    <tr>\n",
       "      <th>299</th>\n",
       "      <td>3.0</td>\n",
       "      <td>3.0</td>\n",
       "      <td>71</td>\n",
       "      <td>100</td>\n",
       "      <td>SHM - Sertifikat Hak Milik</td>\n",
       "      <td>2200.0</td>\n",
       "      <td>1.0</td>\n",
       "      <td>New</td>\n",
       "      <td>Unfurnished</td>\n",
       "    </tr>\n",
       "  </tbody>\n",
       "</table>\n",
       "</div>"
      ],
      "text/plain": [
       "     bedroom  bathroom  land_area  building_area                 certificate  \\\n",
       "239      3.0       2.0        100             83  SHM - Sertifikat Hak Milik   \n",
       "707      3.0       3.0         61             90  SHM - Sertifikat Hak Milik   \n",
       "759      2.0       1.0         90             85  SHM - Sertifikat Hak Milik   \n",
       "432      2.0       1.0         80             55  SHM - Sertifikat Hak Milik   \n",
       "299      3.0       3.0         71            100  SHM - Sertifikat Hak Milik   \n",
       "\n",
       "     electric_power  floor_num  prop_cond furniture_cond  \n",
       "239          2200.0        2.0  Renovated    Unfurnished  \n",
       "707          2200.0        2.0        New    Unfurnished  \n",
       "759          1300.0        1.0       Good    Unfurnished  \n",
       "432          2200.0        1.0       Good    Unfurnished  \n",
       "299          2200.0        1.0        New    Unfurnished  "
      ]
     },
     "execution_count": 12,
     "metadata": {},
     "output_type": "execute_result"
    }
   ],
   "source": [
    "X_train.head()"
   ]
  },
  {
   "cell_type": "markdown",
   "id": "7375d7ed",
   "metadata": {},
   "source": [
    "## Check Statistical Assumptions"
   ]
  },
  {
   "cell_type": "markdown",
   "id": "ca3b07d3",
   "metadata": {},
   "source": [
    "### Preparation"
   ]
  },
  {
   "cell_type": "code",
   "execution_count": 13,
   "id": "6fb576a8",
   "metadata": {},
   "outputs": [
    {
     "data": {
      "text/plain": [
       "Index(['bedroom', 'bathroom', 'land_area', 'building_area', 'electric_power',\n",
       "       'floor_num'],\n",
       "      dtype='object')"
      ]
     },
     "execution_count": 13,
     "metadata": {},
     "output_type": "execute_result"
    }
   ],
   "source": [
    "# Define numerical columns\n",
    "num_cols = X_train.dtypes[X_train.dtypes != \"O\"].index\n",
    "num_cols"
   ]
  },
  {
   "cell_type": "code",
   "execution_count": 14,
   "id": "52efa32f",
   "metadata": {},
   "outputs": [
    {
     "data": {
      "text/plain": [
       "(658, 9)"
      ]
     },
     "execution_count": 14,
     "metadata": {},
     "output_type": "execute_result"
    }
   ],
   "source": [
    "# Encode prop_cond and furniture_cond to be label encoded\n",
    "def prop_label(row):\n",
    "    if row == \"New\":\n",
    "        return 0\n",
    "    elif row == \"Good\":\n",
    "        return 1\n",
    "    elif row == \"Renovated\":\n",
    "        return 2\n",
    "    elif row == \"Needs Renovation\":\n",
    "        return 3\n",
    "    \n",
    "def furn_label(row):\n",
    "    if row == \"Unfurnished\":\n",
    "        return 0\n",
    "    elif row == \"Semi Furnished\":\n",
    "        return 1\n",
    "    elif row == \"Furnished\":\n",
    "        return 2\n",
    "    \n",
    "X_train[\"prop_cond\"] = X_train[\"prop_cond\"].apply(prop_label)\n",
    "X_train[\"furniture_cond\"] = X_train[\"furniture_cond\"].apply(furn_label)\n",
    "X_train.shape"
   ]
  },
  {
   "cell_type": "code",
   "execution_count": 15,
   "id": "3d5b4450",
   "metadata": {},
   "outputs": [],
   "source": [
    "# Encode certificate to be one hot encoded\n",
    "from sklearn.preprocessing import OneHotEncoder\n",
    "\n",
    "enc = OneHotEncoder(drop=\"first\")\n",
    "enc_data = pd.DataFrame(enc.fit_transform(X_train[['certificate']]).toarray())\n",
    "enc_data.columns = enc.get_feature_names([\"certificate\"])\n",
    "\n",
    "enc_data.index = X_train.index\n",
    "X_train = pd.concat([X_train, enc_data], axis=1).drop(\"certificate\", axis=1)"
   ]
  },
  {
   "cell_type": "code",
   "execution_count": 16,
   "id": "4bdeb621",
   "metadata": {},
   "outputs": [
    {
     "data": {
      "text/html": [
       "<div>\n",
       "<style scoped>\n",
       "    .dataframe tbody tr th:only-of-type {\n",
       "        vertical-align: middle;\n",
       "    }\n",
       "\n",
       "    .dataframe tbody tr th {\n",
       "        vertical-align: top;\n",
       "    }\n",
       "\n",
       "    .dataframe thead th {\n",
       "        text-align: right;\n",
       "    }\n",
       "</style>\n",
       "<table border=\"1\" class=\"dataframe\">\n",
       "  <thead>\n",
       "    <tr style=\"text-align: right;\">\n",
       "      <th></th>\n",
       "      <th>bedroom</th>\n",
       "      <th>bathroom</th>\n",
       "      <th>land_area</th>\n",
       "      <th>building_area</th>\n",
       "      <th>electric_power</th>\n",
       "      <th>floor_num</th>\n",
       "      <th>prop_cond</th>\n",
       "      <th>furniture_cond</th>\n",
       "      <th>certificate_Lainnya (PPJB,Girik,Adat,dll)</th>\n",
       "      <th>certificate_SHM - Sertifikat Hak Milik</th>\n",
       "    </tr>\n",
       "  </thead>\n",
       "  <tbody>\n",
       "    <tr>\n",
       "      <th>239</th>\n",
       "      <td>3.0</td>\n",
       "      <td>2.0</td>\n",
       "      <td>100</td>\n",
       "      <td>83</td>\n",
       "      <td>2200.0</td>\n",
       "      <td>2.0</td>\n",
       "      <td>2</td>\n",
       "      <td>0</td>\n",
       "      <td>0.0</td>\n",
       "      <td>1.0</td>\n",
       "    </tr>\n",
       "    <tr>\n",
       "      <th>707</th>\n",
       "      <td>3.0</td>\n",
       "      <td>3.0</td>\n",
       "      <td>61</td>\n",
       "      <td>90</td>\n",
       "      <td>2200.0</td>\n",
       "      <td>2.0</td>\n",
       "      <td>0</td>\n",
       "      <td>0</td>\n",
       "      <td>0.0</td>\n",
       "      <td>1.0</td>\n",
       "    </tr>\n",
       "    <tr>\n",
       "      <th>759</th>\n",
       "      <td>2.0</td>\n",
       "      <td>1.0</td>\n",
       "      <td>90</td>\n",
       "      <td>85</td>\n",
       "      <td>1300.0</td>\n",
       "      <td>1.0</td>\n",
       "      <td>1</td>\n",
       "      <td>0</td>\n",
       "      <td>0.0</td>\n",
       "      <td>1.0</td>\n",
       "    </tr>\n",
       "    <tr>\n",
       "      <th>432</th>\n",
       "      <td>2.0</td>\n",
       "      <td>1.0</td>\n",
       "      <td>80</td>\n",
       "      <td>55</td>\n",
       "      <td>2200.0</td>\n",
       "      <td>1.0</td>\n",
       "      <td>1</td>\n",
       "      <td>0</td>\n",
       "      <td>0.0</td>\n",
       "      <td>1.0</td>\n",
       "    </tr>\n",
       "    <tr>\n",
       "      <th>299</th>\n",
       "      <td>3.0</td>\n",
       "      <td>3.0</td>\n",
       "      <td>71</td>\n",
       "      <td>100</td>\n",
       "      <td>2200.0</td>\n",
       "      <td>1.0</td>\n",
       "      <td>0</td>\n",
       "      <td>0</td>\n",
       "      <td>0.0</td>\n",
       "      <td>1.0</td>\n",
       "    </tr>\n",
       "  </tbody>\n",
       "</table>\n",
       "</div>"
      ],
      "text/plain": [
       "     bedroom  bathroom  land_area  building_area  electric_power  floor_num  \\\n",
       "239      3.0       2.0        100             83          2200.0        2.0   \n",
       "707      3.0       3.0         61             90          2200.0        2.0   \n",
       "759      2.0       1.0         90             85          1300.0        1.0   \n",
       "432      2.0       1.0         80             55          2200.0        1.0   \n",
       "299      3.0       3.0         71            100          2200.0        1.0   \n",
       "\n",
       "     prop_cond  furniture_cond  certificate_Lainnya (PPJB,Girik,Adat,dll)  \\\n",
       "239          2               0                                        0.0   \n",
       "707          0               0                                        0.0   \n",
       "759          1               0                                        0.0   \n",
       "432          1               0                                        0.0   \n",
       "299          0               0                                        0.0   \n",
       "\n",
       "     certificate_SHM - Sertifikat Hak Milik  \n",
       "239                                     1.0  \n",
       "707                                     1.0  \n",
       "759                                     1.0  \n",
       "432                                     1.0  \n",
       "299                                     1.0  "
      ]
     },
     "execution_count": 16,
     "metadata": {},
     "output_type": "execute_result"
    }
   ],
   "source": [
    "X_train.head()"
   ]
  },
  {
   "cell_type": "markdown",
   "id": "af8faa39",
   "metadata": {},
   "source": [
    "### Checking"
   ]
  },
  {
   "cell_type": "code",
   "execution_count": 17,
   "id": "d4a75f9d",
   "metadata": {},
   "outputs": [],
   "source": [
    "# Check linear regression assumption, but first let's make the model\n",
    "from sklearn.linear_model import LinearRegression\n",
    "\n",
    "lr = LinearRegression()\n",
    "lr.fit(X_train, Y_train)\n",
    "\n",
    "# Predict on X_train\n",
    "y_pred = lr.predict(X_train)"
   ]
  },
  {
   "cell_type": "code",
   "execution_count": 18,
   "id": "643d796a",
   "metadata": {},
   "outputs": [
    {
     "data": {
      "image/png": "[encoded data removed]",
      "text/plain": [
       "<Figure size 1080x180 with 6 Axes>"
      ]
     },
     "metadata": {
      "needs_background": "light"
     },
     "output_type": "display_data"
    }
   ],
   "source": [
    "# Linearity\n",
    "combined_xy = pd.concat([X_train, Y_train], axis=1)\n",
    "\n",
    "sns.pairplot(data=combined_xy,\n",
    "             y_vars=['price'],\n",
    "             x_vars=num_cols,\n",
    "             kind=\"reg\",\n",
    "             plot_kws={'line_kws':{'color':'red'}}\n",
    "            )\n",
    "plt.show()"
   ]
  },
  {
   "cell_type": "markdown",
   "id": "f40978b0",
   "metadata": {},
   "source": [
    "Price is linearly correlated to all features."
   ]
  },
  {
   "cell_type": "code",
   "execution_count": 19,
   "id": "347f0e9a",
   "metadata": {},
   "outputs": [
    {
     "name": "stdout",
     "output_type": "stream",
     "text": [
      "Durbin-Watson: 1.5997301370672112\n",
      "Assumed to be No Autocorrelation\n"
     ]
    }
   ],
   "source": [
    "# Autocorrelation\n",
    "from statsmodels.stats.stattools import durbin_watson\n",
    "\n",
    "residuals = (Y_train - y_pred) ** 2\n",
    "dw_value = durbin_watson(residuals)\n",
    "\n",
    "print(f\"Durbin-Watson: {dw_value}\")\n",
    "if dw_value < 1 or dw_value > 3:\n",
    "    print(\"Alarm !!\")\n",
    "else:\n",
    "    print(\"Assumed to be No Autocorrelation\")"
   ]
  },
  {
   "cell_type": "code",
   "execution_count": 20,
   "id": "5d5a3d08",
   "metadata": {},
   "outputs": [
    {
     "data": {
      "text/html": [
       "<div>\n",
       "<style scoped>\n",
       "    .dataframe tbody tr th:only-of-type {\n",
       "        vertical-align: middle;\n",
       "    }\n",
       "\n",
       "    .dataframe tbody tr th {\n",
       "        vertical-align: top;\n",
       "    }\n",
       "\n",
       "    .dataframe thead th {\n",
       "        text-align: right;\n",
       "    }\n",
       "</style>\n",
       "<table border=\"1\" class=\"dataframe\">\n",
       "  <thead>\n",
       "    <tr style=\"text-align: right;\">\n",
       "      <th></th>\n",
       "      <th>feature</th>\n",
       "      <th>VIF</th>\n",
       "    </tr>\n",
       "  </thead>\n",
       "  <tbody>\n",
       "    <tr>\n",
       "      <th>0</th>\n",
       "      <td>bedroom</td>\n",
       "      <td>17.846029</td>\n",
       "    </tr>\n",
       "    <tr>\n",
       "      <th>1</th>\n",
       "      <td>bathroom</td>\n",
       "      <td>12.573711</td>\n",
       "    </tr>\n",
       "    <tr>\n",
       "      <th>2</th>\n",
       "      <td>land_area</td>\n",
       "      <td>13.452915</td>\n",
       "    </tr>\n",
       "    <tr>\n",
       "      <th>3</th>\n",
       "      <td>building_area</td>\n",
       "      <td>10.707603</td>\n",
       "    </tr>\n",
       "    <tr>\n",
       "      <th>4</th>\n",
       "      <td>electric_power</td>\n",
       "      <td>7.537387</td>\n",
       "    </tr>\n",
       "    <tr>\n",
       "      <th>5</th>\n",
       "      <td>floor_num</td>\n",
       "      <td>10.411930</td>\n",
       "    </tr>\n",
       "    <tr>\n",
       "      <th>6</th>\n",
       "      <td>prop_cond</td>\n",
       "      <td>2.753072</td>\n",
       "    </tr>\n",
       "    <tr>\n",
       "      <th>7</th>\n",
       "      <td>furniture_cond</td>\n",
       "      <td>1.230622</td>\n",
       "    </tr>\n",
       "    <tr>\n",
       "      <th>8</th>\n",
       "      <td>certificate_Lainnya (PPJB,Girik,Adat,dll)</td>\n",
       "      <td>1.183590</td>\n",
       "    </tr>\n",
       "    <tr>\n",
       "      <th>9</th>\n",
       "      <td>certificate_SHM - Sertifikat Hak Milik</td>\n",
       "      <td>8.508741</td>\n",
       "    </tr>\n",
       "  </tbody>\n",
       "</table>\n",
       "</div>"
      ],
      "text/plain": [
       "                                     feature        VIF\n",
       "0                                    bedroom  17.846029\n",
       "1                                   bathroom  12.573711\n",
       "2                                  land_area  13.452915\n",
       "3                              building_area  10.707603\n",
       "4                             electric_power   7.537387\n",
       "5                                  floor_num  10.411930\n",
       "6                                  prop_cond   2.753072\n",
       "7                             furniture_cond   1.230622\n",
       "8  certificate_Lainnya (PPJB,Girik,Adat,dll)   1.183590\n",
       "9     certificate_SHM - Sertifikat Hak Milik   8.508741"
      ]
     },
     "execution_count": 20,
     "metadata": {},
     "output_type": "execute_result"
    }
   ],
   "source": [
    "# Multicollinearity\n",
    "from statsmodels.stats.outliers_influence import variance_inflation_factor\n",
    "\n",
    "vif_data = pd.DataFrame()\n",
    "vif_data['feature'] = X_train.columns\n",
    "vif_data['VIF'] = [variance_inflation_factor(X_train.values, i) for i in range(len(X_train.columns))]\n",
    "\n",
    "vif_data"
   ]
  },
  {
   "cell_type": "markdown",
   "id": "7218f55c",
   "metadata": {},
   "source": [
    "We face a **multicollinearity problem** since there is high value of VIF in one of features."
   ]
  },
  {
   "cell_type": "code",
   "execution_count": 21,
   "id": "51e98482",
   "metadata": {},
   "outputs": [
    {
     "data": {
      "text/plain": [
       "<seaborn.axisgrid.FacetGrid at 0x1d1dac34d60>"
      ]
     },
     "execution_count": 21,
     "metadata": {},
     "output_type": "execute_result"
    },
    {
     "data": {
      "image/png": "[encoded data removed]",
      "text/plain": [
       "<Figure size 360x360 with 1 Axes>"
      ]
     },
     "metadata": {
      "needs_background": "light"
     },
     "output_type": "display_data"
    }
   ],
   "source": [
    "# Normality of Errors\n",
    "residuals = (Y_train - y_pred)\n",
    "sns.displot(residuals)"
   ]
  },
  {
   "cell_type": "code",
   "execution_count": 22,
   "id": "2a79aced",
   "metadata": {},
   "outputs": [
    {
     "data": {
      "image/png": "[encoded data removed]",
      "text/plain": [
       "<Figure size 432x288 with 1 Axes>"
      ]
     },
     "metadata": {
      "needs_background": "light"
     },
     "output_type": "display_data"
    }
   ],
   "source": [
    "# Homoscedasticity\n",
    "residuals = Y_train - y_pred\n",
    "plt.scatter(x=Y_train, y=residuals)\n",
    "plt.show()"
   ]
  },
  {
   "cell_type": "markdown",
   "id": "f1cb9228",
   "metadata": {},
   "source": [
    "Based on the scatter plot, our model faces **heteroscedasticity problem**."
   ]
  },
  {
   "cell_type": "markdown",
   "id": "542857a9",
   "metadata": {},
   "source": [
    "## Standardization"
   ]
  },
  {
   "cell_type": "code",
   "execution_count": 23,
   "id": "d6bd65d8",
   "metadata": {},
   "outputs": [
    {
     "data": {
      "text/plain": [
       "array([[ 0.10451105,  0.05803751,  0.19901098, ...,  0.19738383,\n",
       "         0.98216383,  1.93910411],\n",
       "       [ 0.10451105,  0.98946879, -0.89223258, ...,  0.19738383,\n",
       "         0.98216383, -1.09160968],\n",
       "       [-0.72402232, -0.87339377, -0.08079506, ..., -0.78447843,\n",
       "        -0.86959491,  0.42374722],\n",
       "       ...,\n",
       "       [-0.72402232,  0.05803751, -0.78031016, ...,  0.19738383,\n",
       "         0.98216383, -1.09160968],\n",
       "       [-0.72402232,  0.05803751, -0.80829077, ..., -0.78447843,\n",
       "         0.98216383, -1.09160968],\n",
       "       [ 0.93304441,  0.05803751,  3.27687745, ...,  0.19738383,\n",
       "        -0.86959491,  0.42374722]])"
      ]
     },
     "execution_count": 23,
     "metadata": {},
     "output_type": "execute_result"
    }
   ],
   "source": [
    "from sklearn.preprocessing import StandardScaler\n",
    "scaler = StandardScaler()\n",
    "\n",
    "scaled_X_train = scaler.fit_transform(X_train.iloc[:,:-3])\n",
    "scaled_X_train"
   ]
  },
  {
   "cell_type": "code",
   "execution_count": 24,
   "id": "71b68b5c",
   "metadata": {},
   "outputs": [
    {
     "data": {
      "text/html": [
       "<div>\n",
       "<style scoped>\n",
       "    .dataframe tbody tr th:only-of-type {\n",
       "        vertical-align: middle;\n",
       "    }\n",
       "\n",
       "    .dataframe tbody tr th {\n",
       "        vertical-align: top;\n",
       "    }\n",
       "\n",
       "    .dataframe thead th {\n",
       "        text-align: right;\n",
       "    }\n",
       "</style>\n",
       "<table border=\"1\" class=\"dataframe\">\n",
       "  <thead>\n",
       "    <tr style=\"text-align: right;\">\n",
       "      <th></th>\n",
       "      <th>bedroom</th>\n",
       "      <th>bathroom</th>\n",
       "      <th>land_area</th>\n",
       "      <th>building_area</th>\n",
       "      <th>electric_power</th>\n",
       "      <th>floor_num</th>\n",
       "      <th>prop_cond</th>\n",
       "    </tr>\n",
       "  </thead>\n",
       "  <tbody>\n",
       "    <tr>\n",
       "      <th>0</th>\n",
       "      <td>0.104511</td>\n",
       "      <td>0.058038</td>\n",
       "      <td>0.199011</td>\n",
       "      <td>-0.086358</td>\n",
       "      <td>0.197384</td>\n",
       "      <td>0.982164</td>\n",
       "      <td>1.939104</td>\n",
       "    </tr>\n",
       "    <tr>\n",
       "      <th>1</th>\n",
       "      <td>0.104511</td>\n",
       "      <td>0.989469</td>\n",
       "      <td>-0.892233</td>\n",
       "      <td>0.067516</td>\n",
       "      <td>0.197384</td>\n",
       "      <td>0.982164</td>\n",
       "      <td>-1.091610</td>\n",
       "    </tr>\n",
       "    <tr>\n",
       "      <th>2</th>\n",
       "      <td>-0.724022</td>\n",
       "      <td>-0.873394</td>\n",
       "      <td>-0.080795</td>\n",
       "      <td>-0.042394</td>\n",
       "      <td>-0.784478</td>\n",
       "      <td>-0.869595</td>\n",
       "      <td>0.423747</td>\n",
       "    </tr>\n",
       "    <tr>\n",
       "      <th>3</th>\n",
       "      <td>-0.724022</td>\n",
       "      <td>-0.873394</td>\n",
       "      <td>-0.360601</td>\n",
       "      <td>-0.701857</td>\n",
       "      <td>0.197384</td>\n",
       "      <td>-0.869595</td>\n",
       "      <td>0.423747</td>\n",
       "    </tr>\n",
       "    <tr>\n",
       "      <th>4</th>\n",
       "      <td>0.104511</td>\n",
       "      <td>0.989469</td>\n",
       "      <td>-0.612427</td>\n",
       "      <td>0.287338</td>\n",
       "      <td>0.197384</td>\n",
       "      <td>-0.869595</td>\n",
       "      <td>-1.091610</td>\n",
       "    </tr>\n",
       "  </tbody>\n",
       "</table>\n",
       "</div>"
      ],
      "text/plain": [
       "    bedroom  bathroom  land_area  building_area  electric_power  floor_num  \\\n",
       "0  0.104511  0.058038   0.199011      -0.086358        0.197384   0.982164   \n",
       "1  0.104511  0.989469  -0.892233       0.067516        0.197384   0.982164   \n",
       "2 -0.724022 -0.873394  -0.080795      -0.042394       -0.784478  -0.869595   \n",
       "3 -0.724022 -0.873394  -0.360601      -0.701857        0.197384  -0.869595   \n",
       "4  0.104511  0.989469  -0.612427       0.287338        0.197384  -0.869595   \n",
       "\n",
       "   prop_cond  \n",
       "0   1.939104  \n",
       "1  -1.091610  \n",
       "2   0.423747  \n",
       "3   0.423747  \n",
       "4  -1.091610  "
      ]
     },
     "execution_count": 24,
     "metadata": {},
     "output_type": "execute_result"
    }
   ],
   "source": [
    "scaled_X_train_df = pd.DataFrame(scaled_X_train, columns=X_train.columns[:-3])\n",
    "scaled_X_train_df.head()"
   ]
  },
  {
   "cell_type": "code",
   "execution_count": 25,
   "id": "cdbc0c7b",
   "metadata": {},
   "outputs": [
    {
     "data": {
      "text/html": [
       "<div>\n",
       "<style scoped>\n",
       "    .dataframe tbody tr th:only-of-type {\n",
       "        vertical-align: middle;\n",
       "    }\n",
       "\n",
       "    .dataframe tbody tr th {\n",
       "        vertical-align: top;\n",
       "    }\n",
       "\n",
       "    .dataframe thead th {\n",
       "        text-align: right;\n",
       "    }\n",
       "</style>\n",
       "<table border=\"1\" class=\"dataframe\">\n",
       "  <thead>\n",
       "    <tr style=\"text-align: right;\">\n",
       "      <th></th>\n",
       "      <th>bedroom</th>\n",
       "      <th>bathroom</th>\n",
       "      <th>land_area</th>\n",
       "      <th>building_area</th>\n",
       "      <th>electric_power</th>\n",
       "      <th>floor_num</th>\n",
       "      <th>prop_cond</th>\n",
       "      <th>furniture_cond</th>\n",
       "      <th>certificate_Lainnya (PPJB,Girik,Adat,dll)</th>\n",
       "      <th>certificate_SHM - Sertifikat Hak Milik</th>\n",
       "    </tr>\n",
       "  </thead>\n",
       "  <tbody>\n",
       "    <tr>\n",
       "      <th>0</th>\n",
       "      <td>0.104511</td>\n",
       "      <td>0.058038</td>\n",
       "      <td>0.199011</td>\n",
       "      <td>-0.086358</td>\n",
       "      <td>0.197384</td>\n",
       "      <td>0.982164</td>\n",
       "      <td>1.939104</td>\n",
       "      <td>0</td>\n",
       "      <td>0.0</td>\n",
       "      <td>1.0</td>\n",
       "    </tr>\n",
       "    <tr>\n",
       "      <th>1</th>\n",
       "      <td>0.104511</td>\n",
       "      <td>0.989469</td>\n",
       "      <td>-0.892233</td>\n",
       "      <td>0.067516</td>\n",
       "      <td>0.197384</td>\n",
       "      <td>0.982164</td>\n",
       "      <td>-1.091610</td>\n",
       "      <td>0</td>\n",
       "      <td>0.0</td>\n",
       "      <td>1.0</td>\n",
       "    </tr>\n",
       "    <tr>\n",
       "      <th>2</th>\n",
       "      <td>-0.724022</td>\n",
       "      <td>-0.873394</td>\n",
       "      <td>-0.080795</td>\n",
       "      <td>-0.042394</td>\n",
       "      <td>-0.784478</td>\n",
       "      <td>-0.869595</td>\n",
       "      <td>0.423747</td>\n",
       "      <td>0</td>\n",
       "      <td>0.0</td>\n",
       "      <td>1.0</td>\n",
       "    </tr>\n",
       "    <tr>\n",
       "      <th>3</th>\n",
       "      <td>-0.724022</td>\n",
       "      <td>-0.873394</td>\n",
       "      <td>-0.360601</td>\n",
       "      <td>-0.701857</td>\n",
       "      <td>0.197384</td>\n",
       "      <td>-0.869595</td>\n",
       "      <td>0.423747</td>\n",
       "      <td>0</td>\n",
       "      <td>0.0</td>\n",
       "      <td>1.0</td>\n",
       "    </tr>\n",
       "    <tr>\n",
       "      <th>4</th>\n",
       "      <td>0.104511</td>\n",
       "      <td>0.989469</td>\n",
       "      <td>-0.612427</td>\n",
       "      <td>0.287338</td>\n",
       "      <td>0.197384</td>\n",
       "      <td>-0.869595</td>\n",
       "      <td>-1.091610</td>\n",
       "      <td>0</td>\n",
       "      <td>0.0</td>\n",
       "      <td>1.0</td>\n",
       "    </tr>\n",
       "  </tbody>\n",
       "</table>\n",
       "</div>"
      ],
      "text/plain": [
       "    bedroom  bathroom  land_area  building_area  electric_power  floor_num  \\\n",
       "0  0.104511  0.058038   0.199011      -0.086358        0.197384   0.982164   \n",
       "1  0.104511  0.989469  -0.892233       0.067516        0.197384   0.982164   \n",
       "2 -0.724022 -0.873394  -0.080795      -0.042394       -0.784478  -0.869595   \n",
       "3 -0.724022 -0.873394  -0.360601      -0.701857        0.197384  -0.869595   \n",
       "4  0.104511  0.989469  -0.612427       0.287338        0.197384  -0.869595   \n",
       "\n",
       "   prop_cond  furniture_cond  certificate_Lainnya (PPJB,Girik,Adat,dll)  \\\n",
       "0   1.939104               0                                        0.0   \n",
       "1  -1.091610               0                                        0.0   \n",
       "2   0.423747               0                                        0.0   \n",
       "3   0.423747               0                                        0.0   \n",
       "4  -1.091610               0                                        0.0   \n",
       "\n",
       "   certificate_SHM - Sertifikat Hak Milik  \n",
       "0                                     1.0  \n",
       "1                                     1.0  \n",
       "2                                     1.0  \n",
       "3                                     1.0  \n",
       "4                                     1.0  "
      ]
     },
     "execution_count": 25,
     "metadata": {},
     "output_type": "execute_result"
    }
   ],
   "source": [
    "scaled_X_train_df = pd.concat([scaled_X_train_df, X_train.iloc[:, -3:].reset_index(drop=True)], axis=1)\n",
    "scaled_X_train_df.head()"
   ]
  },
  {
   "cell_type": "markdown",
   "id": "ad41805a",
   "metadata": {},
   "source": [
    "### Checking"
   ]
  },
  {
   "cell_type": "code",
   "execution_count": 26,
   "id": "08b7449b",
   "metadata": {},
   "outputs": [],
   "source": [
    "# Check linear regression assumption, but first let's make the model\n",
    "from sklearn.linear_model import LinearRegression\n",
    "\n",
    "new_lr = LinearRegression()\n",
    "new_lr.fit(scaled_X_train_df, Y_train)\n",
    "\n",
    "# Predict on X_train\n",
    "y_pred = new_lr.predict(scaled_X_train_df)"
   ]
  },
  {
   "cell_type": "code",
   "execution_count": 27,
   "id": "7a5cfb9f",
   "metadata": {},
   "outputs": [
    {
     "data": {
      "image/png": "[encoded data removed]",
      "text/plain": [
       "<Figure size 1080x180 with 6 Axes>"
      ]
     },
     "metadata": {
      "needs_background": "light"
     },
     "output_type": "display_data"
    }
   ],
   "source": [
    "# Linearity\n",
    "combined_xy = pd.concat([scaled_X_train_df, Y_train], axis=1)\n",
    "\n",
    "sns.pairplot(data=combined_xy,\n",
    "             y_vars=['price'],\n",
    "             x_vars=num_cols,\n",
    "             kind=\"reg\",\n",
    "             plot_kws={'line_kws':{'color':'red'}}\n",
    "            )\n",
    "plt.show()"
   ]
  },
  {
   "cell_type": "code",
   "execution_count": 28,
   "id": "24dbe1f8",
   "metadata": {},
   "outputs": [
    {
     "data": {
      "text/plain": [
       "<AxesSubplot:>"
      ]
     },
     "execution_count": 28,
     "metadata": {},
     "output_type": "execute_result"
    },
    {
     "data": {
      "image/png": "[encoded data removed]",
      "text/plain": [
       "<Figure size 1008x576 with 2 Axes>"
      ]
     },
     "metadata": {
      "needs_background": "light"
     },
     "output_type": "display_data"
    }
   ],
   "source": [
    "plt.figure(figsize=(14, 8))\n",
    "sns.heatmap(combined_xy.corr(), annot=True)"
   ]
  },
  {
   "cell_type": "markdown",
   "id": "de2bb6f4",
   "metadata": {},
   "source": [
    "Price is linearly correlated to all features."
   ]
  },
  {
   "cell_type": "code",
   "execution_count": 29,
   "id": "081c16aa",
   "metadata": {},
   "outputs": [
    {
     "name": "stdout",
     "output_type": "stream",
     "text": [
      "Durbin-Watson: 1.5997301370671881\n",
      "Assumed to be No Autocorrelation\n"
     ]
    }
   ],
   "source": [
    "# Autocorrelation\n",
    "from statsmodels.stats.stattools import durbin_watson\n",
    "\n",
    "residuals = (Y_train - y_pred) ** 2\n",
    "dw_value = durbin_watson(residuals)\n",
    "\n",
    "print(f\"Durbin-Watson: {dw_value}\")\n",
    "if dw_value < 1 or dw_value > 3:\n",
    "    print(\"Alarm !!\")\n",
    "else:\n",
    "    print(\"Assumed to be No Autocorrelation\")"
   ]
  },
  {
   "cell_type": "code",
   "execution_count": 30,
   "id": "e62fe4d9",
   "metadata": {},
   "outputs": [
    {
     "data": {
      "text/html": [
       "<div>\n",
       "<style scoped>\n",
       "    .dataframe tbody tr th:only-of-type {\n",
       "        vertical-align: middle;\n",
       "    }\n",
       "\n",
       "    .dataframe tbody tr th {\n",
       "        vertical-align: top;\n",
       "    }\n",
       "\n",
       "    .dataframe thead th {\n",
       "        text-align: right;\n",
       "    }\n",
       "</style>\n",
       "<table border=\"1\" class=\"dataframe\">\n",
       "  <thead>\n",
       "    <tr style=\"text-align: right;\">\n",
       "      <th></th>\n",
       "      <th>feature</th>\n",
       "      <th>VIF</th>\n",
       "    </tr>\n",
       "  </thead>\n",
       "  <tbody>\n",
       "    <tr>\n",
       "      <th>0</th>\n",
       "      <td>bedroom</td>\n",
       "      <td>2.834523</td>\n",
       "    </tr>\n",
       "    <tr>\n",
       "      <th>1</th>\n",
       "      <td>bathroom</td>\n",
       "      <td>3.070881</td>\n",
       "    </tr>\n",
       "    <tr>\n",
       "      <th>2</th>\n",
       "      <td>land_area</td>\n",
       "      <td>2.041097</td>\n",
       "    </tr>\n",
       "    <tr>\n",
       "      <th>3</th>\n",
       "      <td>building_area</td>\n",
       "      <td>2.483027</td>\n",
       "    </tr>\n",
       "    <tr>\n",
       "      <th>4</th>\n",
       "      <td>electric_power</td>\n",
       "      <td>1.304188</td>\n",
       "    </tr>\n",
       "    <tr>\n",
       "      <th>5</th>\n",
       "      <td>floor_num</td>\n",
       "      <td>1.738471</td>\n",
       "    </tr>\n",
       "    <tr>\n",
       "      <th>6</th>\n",
       "      <td>prop_cond</td>\n",
       "      <td>1.265270</td>\n",
       "    </tr>\n",
       "    <tr>\n",
       "      <th>7</th>\n",
       "      <td>furniture_cond</td>\n",
       "      <td>1.228788</td>\n",
       "    </tr>\n",
       "    <tr>\n",
       "      <th>8</th>\n",
       "      <td>certificate_Lainnya (PPJB,Girik,Adat,dll)</td>\n",
       "      <td>1.038754</td>\n",
       "    </tr>\n",
       "    <tr>\n",
       "      <th>9</th>\n",
       "      <td>certificate_SHM - Sertifikat Hak Milik</td>\n",
       "      <td>1.132187</td>\n",
       "    </tr>\n",
       "  </tbody>\n",
       "</table>\n",
       "</div>"
      ],
      "text/plain": [
       "                                     feature       VIF\n",
       "0                                    bedroom  2.834523\n",
       "1                                   bathroom  3.070881\n",
       "2                                  land_area  2.041097\n",
       "3                              building_area  2.483027\n",
       "4                             electric_power  1.304188\n",
       "5                                  floor_num  1.738471\n",
       "6                                  prop_cond  1.265270\n",
       "7                             furniture_cond  1.228788\n",
       "8  certificate_Lainnya (PPJB,Girik,Adat,dll)  1.038754\n",
       "9     certificate_SHM - Sertifikat Hak Milik  1.132187"
      ]
     },
     "execution_count": 30,
     "metadata": {},
     "output_type": "execute_result"
    }
   ],
   "source": [
    "# Multicollinearity\n",
    "from statsmodels.stats.outliers_influence import variance_inflation_factor\n",
    "\n",
    "vif_data = pd.DataFrame()\n",
    "vif_data['feature'] = scaled_X_train_df.columns\n",
    "vif_data['VIF'] = [variance_inflation_factor(scaled_X_train_df.values, i) for i in range(len(scaled_X_train_df.columns))]\n",
    "\n",
    "vif_data"
   ]
  },
  {
   "cell_type": "markdown",
   "id": "5ec34e5f",
   "metadata": {},
   "source": [
    "We face a **multicollinearity problem** since there is high value of VIF in one of features."
   ]
  },
  {
   "cell_type": "code",
   "execution_count": 31,
   "id": "634db11e",
   "metadata": {},
   "outputs": [
    {
     "data": {
      "text/plain": [
       "<seaborn.axisgrid.FacetGrid at 0x1d1db13dac0>"
      ]
     },
     "execution_count": 31,
     "metadata": {},
     "output_type": "execute_result"
    },
    {
     "data": {
      "image/png": "[encoded data removed]",
      "text/plain": [
       "<Figure size 360x360 with 1 Axes>"
      ]
     },
     "metadata": {
      "needs_background": "light"
     },
     "output_type": "display_data"
    }
   ],
   "source": [
    "# Normality of Errors\n",
    "residuals = (Y_train - y_pred)\n",
    "sns.displot(residuals)"
   ]
  },
  {
   "cell_type": "code",
   "execution_count": 32,
   "id": "f8ac468c",
   "metadata": {},
   "outputs": [
    {
     "data": {
      "image/png": "[encoded data removed]",
      "text/plain": [
       "<Figure size 432x288 with 1 Axes>"
      ]
     },
     "metadata": {
      "needs_background": "light"
     },
     "output_type": "display_data"
    }
   ],
   "source": [
    "# Homoscedasticity\n",
    "residuals = Y_train - y_pred\n",
    "plt.scatter(x=Y_train, y=residuals)\n",
    "plt.show()"
   ]
  },
  {
   "cell_type": "markdown",
   "id": "9179285b",
   "metadata": {},
   "source": [
    "## Brief Evaluation"
   ]
  },
  {
   "cell_type": "code",
   "execution_count": 33,
   "id": "0fc501fd",
   "metadata": {},
   "outputs": [
    {
     "name": "stdout",
     "output_type": "stream",
     "text": [
      "Linear Regression\n",
      "Mean squared error: 0.06529132313996286\n",
      "Mean absolute error: 0.1875097336891218\n",
      "\n",
      "Linear Regression (With Standardization)\n",
      "Mean squared error: 0.06529132313996286\n",
      "Mean absolute error: 0.18750973368912258\n",
      "\n"
     ]
    }
   ],
   "source": [
    "from sklearn.metrics import mean_squared_error, mean_absolute_error\n",
    "\n",
    "lr_pred = lr.predict(X_train)\n",
    "new_lr_pred = new_lr.predict(scaled_X_train_df)\n",
    "\n",
    "# Evaluate \"lr\" model\n",
    "lr_mse = mean_squared_error(Y_train, lr_pred)\n",
    "lr_mae = mean_absolute_error(Y_train, lr_pred)\n",
    "\n",
    "# Evaluate \"new_lr\" model\n",
    "new_lr_mse = mean_squared_error(Y_train, new_lr_pred)\n",
    "new_lr_mae = mean_absolute_error(Y_train, new_lr_pred)\n",
    "\n",
    "print(\"Linear Regression\")\n",
    "print(f\"Mean squared error: {lr_mse}\")\n",
    "print(f\"Mean absolute error: {lr_mae}\\n\")\n",
    "\n",
    "print(\"Linear Regression (With Standardization)\")\n",
    "print(f\"Mean squared error: {new_lr_mse}\")\n",
    "print(f\"Mean absolute error: {new_lr_mae}\\n\")"
   ]
  },
  {
   "cell_type": "markdown",
   "id": "03373761",
   "metadata": {},
   "source": [
    "Because this comparison, I think we cannot use multiple linear regression to predict these house prices. Also, there are any statistical assumptions that this linear regression model satisfy in both standardized and unstandardized data."
   ]
  },
  {
   "cell_type": "code",
   "execution_count": 34,
   "id": "cb785e19",
   "metadata": {},
   "outputs": [
    {
     "data": {
      "text/html": [
       "<div>\n",
       "<style scoped>\n",
       "    .dataframe tbody tr th:only-of-type {\n",
       "        vertical-align: middle;\n",
       "    }\n",
       "\n",
       "    .dataframe tbody tr th {\n",
       "        vertical-align: top;\n",
       "    }\n",
       "\n",
       "    .dataframe thead th {\n",
       "        text-align: right;\n",
       "    }\n",
       "</style>\n",
       "<table border=\"1\" class=\"dataframe\">\n",
       "  <thead>\n",
       "    <tr style=\"text-align: right;\">\n",
       "      <th></th>\n",
       "      <th>feature</th>\n",
       "      <th>importance</th>\n",
       "    </tr>\n",
       "  </thead>\n",
       "  <tbody>\n",
       "    <tr>\n",
       "      <th>0</th>\n",
       "      <td>bedroom</td>\n",
       "      <td>0.004430</td>\n",
       "    </tr>\n",
       "    <tr>\n",
       "      <th>1</th>\n",
       "      <td>bathroom</td>\n",
       "      <td>0.070171</td>\n",
       "    </tr>\n",
       "    <tr>\n",
       "      <th>2</th>\n",
       "      <td>land_area</td>\n",
       "      <td>0.204121</td>\n",
       "    </tr>\n",
       "    <tr>\n",
       "      <th>3</th>\n",
       "      <td>building_area</td>\n",
       "      <td>0.068911</td>\n",
       "    </tr>\n",
       "    <tr>\n",
       "      <th>4</th>\n",
       "      <td>electric_power</td>\n",
       "      <td>0.084137</td>\n",
       "    </tr>\n",
       "    <tr>\n",
       "      <th>5</th>\n",
       "      <td>floor_num</td>\n",
       "      <td>0.110365</td>\n",
       "    </tr>\n",
       "    <tr>\n",
       "      <th>6</th>\n",
       "      <td>prop_cond</td>\n",
       "      <td>0.013341</td>\n",
       "    </tr>\n",
       "    <tr>\n",
       "      <th>7</th>\n",
       "      <td>furniture_cond</td>\n",
       "      <td>0.007658</td>\n",
       "    </tr>\n",
       "    <tr>\n",
       "      <th>8</th>\n",
       "      <td>certificate_Lainnya (PPJB,Girik,Adat,dll)</td>\n",
       "      <td>0.136212</td>\n",
       "    </tr>\n",
       "    <tr>\n",
       "      <th>9</th>\n",
       "      <td>certificate_SHM - Sertifikat Hak Milik</td>\n",
       "      <td>-0.130993</td>\n",
       "    </tr>\n",
       "  </tbody>\n",
       "</table>\n",
       "</div>"
      ],
      "text/plain": [
       "                                     feature  importance\n",
       "0                                    bedroom    0.004430\n",
       "1                                   bathroom    0.070171\n",
       "2                                  land_area    0.204121\n",
       "3                              building_area    0.068911\n",
       "4                             electric_power    0.084137\n",
       "5                                  floor_num    0.110365\n",
       "6                                  prop_cond    0.013341\n",
       "7                             furniture_cond    0.007658\n",
       "8  certificate_Lainnya (PPJB,Girik,Adat,dll)    0.136212\n",
       "9     certificate_SHM - Sertifikat Hak Milik   -0.130993"
      ]
     },
     "execution_count": 34,
     "metadata": {},
     "output_type": "execute_result"
    }
   ],
   "source": [
    "# Feature Importance (using normalized data)\n",
    "feat_importance = pd.DataFrame()\n",
    "feat_importance['feature'] = X_train.columns\n",
    "feat_importance['importance'] = new_lr.coef_\n",
    "\n",
    "feat_importance"
   ]
  },
  {
   "cell_type": "markdown",
   "id": "2dca7cde",
   "metadata": {},
   "source": [
    "## Model Building"
   ]
  },
  {
   "cell_type": "code",
   "execution_count": 35,
   "id": "2fb16698",
   "metadata": {},
   "outputs": [],
   "source": [
    "# Choose the best machine learning algorithm for this data\n",
    "from sklearn.svm import SVR\n",
    "from sklearn.neighbors import KNeighborsRegressor\n",
    "from sklearn.tree import DecisionTreeRegressor\n",
    "from sklearn.ensemble import RandomForestRegressor\n",
    "from xgboost import XGBRegressor\n",
    "\n",
    "models = [(\"Support Vector Machine\", SVR()), \n",
    "          (\"KNN\", KNeighborsRegressor()), \n",
    "          (\"Decision Tree\", DecisionTreeRegressor()),\n",
    "          (\"Random Forest\", RandomForestRegressor()),\n",
    "          (\"XGBoost\", XGBRegressor())\n",
    "         ]"
   ]
  },
  {
   "cell_type": "code",
   "execution_count": 36,
   "id": "4048db82",
   "metadata": {},
   "outputs": [
    {
     "data": {
      "text/html": [
       "<div>\n",
       "<style scoped>\n",
       "    .dataframe tbody tr th:only-of-type {\n",
       "        vertical-align: middle;\n",
       "    }\n",
       "\n",
       "    .dataframe tbody tr th {\n",
       "        vertical-align: top;\n",
       "    }\n",
       "\n",
       "    .dataframe thead th {\n",
       "        text-align: right;\n",
       "    }\n",
       "</style>\n",
       "<table border=\"1\" class=\"dataframe\">\n",
       "  <thead>\n",
       "    <tr style=\"text-align: right;\">\n",
       "      <th></th>\n",
       "      <th>name</th>\n",
       "      <th>r_squared</th>\n",
       "    </tr>\n",
       "  </thead>\n",
       "  <tbody>\n",
       "    <tr>\n",
       "      <th>0</th>\n",
       "      <td>Support Vector Machine</td>\n",
       "      <td>0.538866</td>\n",
       "    </tr>\n",
       "    <tr>\n",
       "      <th>1</th>\n",
       "      <td>KNN</td>\n",
       "      <td>0.605966</td>\n",
       "    </tr>\n",
       "    <tr>\n",
       "      <th>2</th>\n",
       "      <td>Decision Tree</td>\n",
       "      <td>0.521189</td>\n",
       "    </tr>\n",
       "    <tr>\n",
       "      <th>3</th>\n",
       "      <td>Random Forest</td>\n",
       "      <td>0.735750</td>\n",
       "    </tr>\n",
       "    <tr>\n",
       "      <th>4</th>\n",
       "      <td>XGBoost</td>\n",
       "      <td>0.725431</td>\n",
       "    </tr>\n",
       "  </tbody>\n",
       "</table>\n",
       "</div>"
      ],
      "text/plain": [
       "                     name  r_squared\n",
       "0  Support Vector Machine   0.538866\n",
       "1                     KNN   0.605966\n",
       "2           Decision Tree   0.521189\n",
       "3           Random Forest   0.735750\n",
       "4                 XGBoost   0.725431"
      ]
     },
     "execution_count": 36,
     "metadata": {},
     "output_type": "execute_result"
    }
   ],
   "source": [
    "# Using unstandardized data\n",
    "from sklearn.model_selection import KFold, cross_val_score\n",
    "\n",
    "fold_5 = KFold(5, shuffle=True)\n",
    "names = []\n",
    "scores = []\n",
    "for name, model in models:\n",
    "    score = cross_val_score(model, X_train, Y_train, scoring=\"r2\", cv=fold_5).mean()\n",
    "    scores.append(score)\n",
    "    names.append(name)\n",
    "    \n",
    "score_df = pd.DataFrame()\n",
    "score_df['name'] = names\n",
    "score_df['r_squared'] = scores\n",
    "\n",
    "score_df"
   ]
  },
  {
   "cell_type": "code",
   "execution_count": 37,
   "id": "b4a061c2",
   "metadata": {},
   "outputs": [
    {
     "data": {
      "text/html": [
       "<div>\n",
       "<style scoped>\n",
       "    .dataframe tbody tr th:only-of-type {\n",
       "        vertical-align: middle;\n",
       "    }\n",
       "\n",
       "    .dataframe tbody tr th {\n",
       "        vertical-align: top;\n",
       "    }\n",
       "\n",
       "    .dataframe thead th {\n",
       "        text-align: right;\n",
       "    }\n",
       "</style>\n",
       "<table border=\"1\" class=\"dataframe\">\n",
       "  <thead>\n",
       "    <tr style=\"text-align: right;\">\n",
       "      <th></th>\n",
       "      <th>name</th>\n",
       "      <th>r_squared</th>\n",
       "    </tr>\n",
       "  </thead>\n",
       "  <tbody>\n",
       "    <tr>\n",
       "      <th>0</th>\n",
       "      <td>Support Vector Machine</td>\n",
       "      <td>0.714518</td>\n",
       "    </tr>\n",
       "    <tr>\n",
       "      <th>1</th>\n",
       "      <td>KNN</td>\n",
       "      <td>0.711013</td>\n",
       "    </tr>\n",
       "    <tr>\n",
       "      <th>2</th>\n",
       "      <td>Decision Tree</td>\n",
       "      <td>0.559878</td>\n",
       "    </tr>\n",
       "    <tr>\n",
       "      <th>3</th>\n",
       "      <td>Random Forest</td>\n",
       "      <td>0.749083</td>\n",
       "    </tr>\n",
       "    <tr>\n",
       "      <th>4</th>\n",
       "      <td>XGBoost</td>\n",
       "      <td>0.723539</td>\n",
       "    </tr>\n",
       "  </tbody>\n",
       "</table>\n",
       "</div>"
      ],
      "text/plain": [
       "                     name  r_squared\n",
       "0  Support Vector Machine   0.714518\n",
       "1                     KNN   0.711013\n",
       "2           Decision Tree   0.559878\n",
       "3           Random Forest   0.749083\n",
       "4                 XGBoost   0.723539"
      ]
     },
     "execution_count": 37,
     "metadata": {},
     "output_type": "execute_result"
    }
   ],
   "source": [
    "# Using standardized data\n",
    "from sklearn.model_selection import KFold, cross_val_score\n",
    "\n",
    "fold_5 = KFold(5, shuffle=True)\n",
    "names = []\n",
    "scores = []\n",
    "for name, model in models:\n",
    "    score = cross_val_score(model, scaled_X_train_df, Y_train, scoring=\"r2\", cv=fold_5).mean()\n",
    "    scores.append(score)\n",
    "    names.append(name)\n",
    "    \n",
    "score_df = pd.DataFrame()\n",
    "score_df['name'] = names\n",
    "score_df['r_squared'] = scores\n",
    "\n",
    "score_df"
   ]
  },
  {
   "cell_type": "markdown",
   "id": "1028d962",
   "metadata": {},
   "source": [
    "In this case, we will use **Random Forest Regressor** algorithm. Then, we want to optimize our model by **hyperparameter tuning**."
   ]
  },
  {
   "cell_type": "code",
   "execution_count": 38,
   "id": "fb9fab63",
   "metadata": {},
   "outputs": [
    {
     "data": {
      "text/plain": [
       "GridSearchCV(cv=KFold(n_splits=5, random_state=None, shuffle=True),\n",
       "             estimator=RandomForestRegressor(random_state=42),\n",
       "             param_grid={'criterion': ('squared_error', 'friedman_mse'),\n",
       "                         'max_features': (None, 'sqrt', 'log2'),\n",
       "                         'n_estimators': (100, 200, 500, 1000)},\n",
       "             scoring='r2')"
      ]
     },
     "execution_count": 38,
     "metadata": {},
     "output_type": "execute_result"
    }
   ],
   "source": [
    "# From now on, we will use unstandardized data, since Random Forest algorithm performance does not differ\n",
    "from sklearn.model_selection import GridSearchCV\n",
    "\n",
    "parameters = {\n",
    "    \"n_estimators\": (100, 200, 500, 1000),\n",
    "    \"criterion\": (\"squared_error\", \"friedman_mse\"),\n",
    "    \"max_features\": (None, \"sqrt\", \"log2\")\n",
    "}\n",
    "rf = RandomForestRegressor(random_state=42)\n",
    "clf = GridSearchCV(rf, param_grid=parameters, scoring=\"r2\", cv=fold_5)\n",
    "clf.fit(X_train, Y_train)"
   ]
  },
  {
   "cell_type": "code",
   "execution_count": 39,
   "id": "d304f207",
   "metadata": {},
   "outputs": [
    {
     "data": {
      "text/html": [
       "<div>\n",
       "<style scoped>\n",
       "    .dataframe tbody tr th:only-of-type {\n",
       "        vertical-align: middle;\n",
       "    }\n",
       "\n",
       "    .dataframe tbody tr th {\n",
       "        vertical-align: top;\n",
       "    }\n",
       "\n",
       "    .dataframe thead th {\n",
       "        text-align: right;\n",
       "    }\n",
       "</style>\n",
       "<table border=\"1\" class=\"dataframe\">\n",
       "  <thead>\n",
       "    <tr style=\"text-align: right;\">\n",
       "      <th></th>\n",
       "      <th>mean_fit_time</th>\n",
       "      <th>std_fit_time</th>\n",
       "      <th>mean_score_time</th>\n",
       "      <th>std_score_time</th>\n",
       "      <th>param_criterion</th>\n",
       "      <th>param_max_features</th>\n",
       "      <th>param_n_estimators</th>\n",
       "      <th>params</th>\n",
       "      <th>split0_test_score</th>\n",
       "      <th>split1_test_score</th>\n",
       "      <th>split2_test_score</th>\n",
       "      <th>split3_test_score</th>\n",
       "      <th>split4_test_score</th>\n",
       "      <th>mean_test_score</th>\n",
       "      <th>std_test_score</th>\n",
       "      <th>rank_test_score</th>\n",
       "    </tr>\n",
       "  </thead>\n",
       "  <tbody>\n",
       "    <tr>\n",
       "      <th>11</th>\n",
       "      <td>0.907237</td>\n",
       "      <td>0.013740</td>\n",
       "      <td>0.063841</td>\n",
       "      <td>0.001013</td>\n",
       "      <td>squared_error</td>\n",
       "      <td>log2</td>\n",
       "      <td>1000</td>\n",
       "      <td>{'criterion': 'squared_error', 'max_features':...</td>\n",
       "      <td>0.791767</td>\n",
       "      <td>0.708429</td>\n",
       "      <td>0.749181</td>\n",
       "      <td>0.712031</td>\n",
       "      <td>0.774185</td>\n",
       "      <td>0.747118</td>\n",
       "      <td>0.033040</td>\n",
       "      <td>1</td>\n",
       "    </tr>\n",
       "    <tr>\n",
       "      <th>7</th>\n",
       "      <td>0.903710</td>\n",
       "      <td>0.015385</td>\n",
       "      <td>0.063046</td>\n",
       "      <td>0.000549</td>\n",
       "      <td>squared_error</td>\n",
       "      <td>sqrt</td>\n",
       "      <td>1000</td>\n",
       "      <td>{'criterion': 'squared_error', 'max_features':...</td>\n",
       "      <td>0.791767</td>\n",
       "      <td>0.708429</td>\n",
       "      <td>0.749181</td>\n",
       "      <td>0.712031</td>\n",
       "      <td>0.774185</td>\n",
       "      <td>0.747118</td>\n",
       "      <td>0.033040</td>\n",
       "      <td>1</td>\n",
       "    </tr>\n",
       "    <tr>\n",
       "      <th>19</th>\n",
       "      <td>0.877099</td>\n",
       "      <td>0.005490</td>\n",
       "      <td>0.062435</td>\n",
       "      <td>0.000596</td>\n",
       "      <td>friedman_mse</td>\n",
       "      <td>sqrt</td>\n",
       "      <td>1000</td>\n",
       "      <td>{'criterion': 'friedman_mse', 'max_features': ...</td>\n",
       "      <td>0.791745</td>\n",
       "      <td>0.708429</td>\n",
       "      <td>0.749056</td>\n",
       "      <td>0.710323</td>\n",
       "      <td>0.773338</td>\n",
       "      <td>0.746578</td>\n",
       "      <td>0.033263</td>\n",
       "      <td>3</td>\n",
       "    </tr>\n",
       "    <tr>\n",
       "      <th>23</th>\n",
       "      <td>0.879596</td>\n",
       "      <td>0.003727</td>\n",
       "      <td>0.063230</td>\n",
       "      <td>0.000991</td>\n",
       "      <td>friedman_mse</td>\n",
       "      <td>log2</td>\n",
       "      <td>1000</td>\n",
       "      <td>{'criterion': 'friedman_mse', 'max_features': ...</td>\n",
       "      <td>0.791745</td>\n",
       "      <td>0.708429</td>\n",
       "      <td>0.749056</td>\n",
       "      <td>0.710323</td>\n",
       "      <td>0.773338</td>\n",
       "      <td>0.746578</td>\n",
       "      <td>0.033263</td>\n",
       "      <td>3</td>\n",
       "    </tr>\n",
       "    <tr>\n",
       "      <th>5</th>\n",
       "      <td>0.184571</td>\n",
       "      <td>0.007836</td>\n",
       "      <td>0.014000</td>\n",
       "      <td>0.000587</td>\n",
       "      <td>squared_error</td>\n",
       "      <td>sqrt</td>\n",
       "      <td>200</td>\n",
       "      <td>{'criterion': 'squared_error', 'max_features':...</td>\n",
       "      <td>0.790484</td>\n",
       "      <td>0.711776</td>\n",
       "      <td>0.745619</td>\n",
       "      <td>0.710099</td>\n",
       "      <td>0.773497</td>\n",
       "      <td>0.746295</td>\n",
       "      <td>0.032233</td>\n",
       "      <td>5</td>\n",
       "    </tr>\n",
       "  </tbody>\n",
       "</table>\n",
       "</div>"
      ],
      "text/plain": [
       "    mean_fit_time  std_fit_time  mean_score_time  std_score_time  \\\n",
       "11       0.907237      0.013740         0.063841        0.001013   \n",
       "7        0.903710      0.015385         0.063046        0.000549   \n",
       "19       0.877099      0.005490         0.062435        0.000596   \n",
       "23       0.879596      0.003727         0.063230        0.000991   \n",
       "5        0.184571      0.007836         0.014000        0.000587   \n",
       "\n",
       "   param_criterion param_max_features param_n_estimators  \\\n",
       "11   squared_error               log2               1000   \n",
       "7    squared_error               sqrt               1000   \n",
       "19    friedman_mse               sqrt               1000   \n",
       "23    friedman_mse               log2               1000   \n",
       "5    squared_error               sqrt                200   \n",
       "\n",
       "                                               params  split0_test_score  \\\n",
       "11  {'criterion': 'squared_error', 'max_features':...           0.791767   \n",
       "7   {'criterion': 'squared_error', 'max_features':...           0.791767   \n",
       "19  {'criterion': 'friedman_mse', 'max_features': ...           0.791745   \n",
       "23  {'criterion': 'friedman_mse', 'max_features': ...           0.791745   \n",
       "5   {'criterion': 'squared_error', 'max_features':...           0.790484   \n",
       "\n",
       "    split1_test_score  split2_test_score  split3_test_score  \\\n",
       "11           0.708429           0.749181           0.712031   \n",
       "7            0.708429           0.749181           0.712031   \n",
       "19           0.708429           0.749056           0.710323   \n",
       "23           0.708429           0.749056           0.710323   \n",
       "5            0.711776           0.745619           0.710099   \n",
       "\n",
       "    split4_test_score  mean_test_score  std_test_score  rank_test_score  \n",
       "11           0.774185         0.747118        0.033040                1  \n",
       "7            0.774185         0.747118        0.033040                1  \n",
       "19           0.773338         0.746578        0.033263                3  \n",
       "23           0.773338         0.746578        0.033263                3  \n",
       "5            0.773497         0.746295        0.032233                5  "
      ]
     },
     "execution_count": 39,
     "metadata": {},
     "output_type": "execute_result"
    }
   ],
   "source": [
    "clf_df = pd.DataFrame(clf.cv_results_)\n",
    "clf_df.sort_values(by=\"rank_test_score\", ascending=True).head()"
   ]
  },
  {
   "cell_type": "code",
   "execution_count": 40,
   "id": "4f3c7876",
   "metadata": {},
   "outputs": [
    {
     "data": {
      "text/plain": [
       "{'criterion': 'squared_error', 'max_features': 'sqrt', 'n_estimators': 1000}"
      ]
     },
     "execution_count": 40,
     "metadata": {},
     "output_type": "execute_result"
    }
   ],
   "source": [
    "clf.best_params_"
   ]
  },
  {
   "cell_type": "code",
   "execution_count": 41,
   "id": "a5a9143e",
   "metadata": {},
   "outputs": [
    {
     "data": {
      "text/plain": [
       "RandomForestRegressor(max_features='sqrt', n_estimators=1000, random_state=42)"
      ]
     },
     "execution_count": 41,
     "metadata": {},
     "output_type": "execute_result"
    }
   ],
   "source": [
    "best_rf = RandomForestRegressor(n_estimators=1000, max_features=\"sqrt\", random_state=42)\n",
    "best_rf.fit(X_train, Y_train)"
   ]
  },
  {
   "cell_type": "code",
   "execution_count": 42,
   "id": "41f0ccba",
   "metadata": {},
   "outputs": [
    {
     "name": "stdout",
     "output_type": "stream",
     "text": [
      "Training Score\n",
      "\n",
      "\n",
      "Mean Squared Error: 0.007557877371266121\n",
      "Mean Absolute Error: 0.05676228382433694\n"
     ]
    }
   ],
   "source": [
    "y_pred = best_rf.predict(X_train)\n",
    "rf_mse = mean_squared_error(Y_train, y_pred)\n",
    "rf_mae = mean_absolute_error(Y_train, y_pred)\n",
    "\n",
    "print(\"Training Score\\n\\n\")\n",
    "print(f\"Mean Squared Error: {rf_mse}\")\n",
    "print(f\"Mean Absolute Error: {rf_mae}\")"
   ]
  },
  {
   "cell_type": "code",
   "execution_count": 43,
   "id": "5f0b3b01",
   "metadata": {},
   "outputs": [
    {
     "data": {
      "text/html": [
       "<div>\n",
       "<style scoped>\n",
       "    .dataframe tbody tr th:only-of-type {\n",
       "        vertical-align: middle;\n",
       "    }\n",
       "\n",
       "    .dataframe tbody tr th {\n",
       "        vertical-align: top;\n",
       "    }\n",
       "\n",
       "    .dataframe thead th {\n",
       "        text-align: right;\n",
       "    }\n",
       "</style>\n",
       "<table border=\"1\" class=\"dataframe\">\n",
       "  <thead>\n",
       "    <tr style=\"text-align: right;\">\n",
       "      <th></th>\n",
       "      <th>feature</th>\n",
       "      <th>importance</th>\n",
       "    </tr>\n",
       "  </thead>\n",
       "  <tbody>\n",
       "    <tr>\n",
       "      <th>0</th>\n",
       "      <td>bedroom</td>\n",
       "      <td>0.139735</td>\n",
       "    </tr>\n",
       "    <tr>\n",
       "      <th>1</th>\n",
       "      <td>bathroom</td>\n",
       "      <td>0.134965</td>\n",
       "    </tr>\n",
       "    <tr>\n",
       "      <th>2</th>\n",
       "      <td>land_area</td>\n",
       "      <td>0.235522</td>\n",
       "    </tr>\n",
       "    <tr>\n",
       "      <th>3</th>\n",
       "      <td>building_area</td>\n",
       "      <td>0.279980</td>\n",
       "    </tr>\n",
       "    <tr>\n",
       "      <th>4</th>\n",
       "      <td>electric_power</td>\n",
       "      <td>0.090220</td>\n",
       "    </tr>\n",
       "    <tr>\n",
       "      <th>5</th>\n",
       "      <td>floor_num</td>\n",
       "      <td>0.053201</td>\n",
       "    </tr>\n",
       "    <tr>\n",
       "      <th>6</th>\n",
       "      <td>prop_cond</td>\n",
       "      <td>0.029006</td>\n",
       "    </tr>\n",
       "    <tr>\n",
       "      <th>7</th>\n",
       "      <td>furniture_cond</td>\n",
       "      <td>0.016037</td>\n",
       "    </tr>\n",
       "    <tr>\n",
       "      <th>8</th>\n",
       "      <td>certificate_Lainnya (PPJB,Girik,Adat,dll)</td>\n",
       "      <td>0.005254</td>\n",
       "    </tr>\n",
       "    <tr>\n",
       "      <th>9</th>\n",
       "      <td>certificate_SHM - Sertifikat Hak Milik</td>\n",
       "      <td>0.016080</td>\n",
       "    </tr>\n",
       "  </tbody>\n",
       "</table>\n",
       "</div>"
      ],
      "text/plain": [
       "                                     feature  importance\n",
       "0                                    bedroom    0.139735\n",
       "1                                   bathroom    0.134965\n",
       "2                                  land_area    0.235522\n",
       "3                              building_area    0.279980\n",
       "4                             electric_power    0.090220\n",
       "5                                  floor_num    0.053201\n",
       "6                                  prop_cond    0.029006\n",
       "7                             furniture_cond    0.016037\n",
       "8  certificate_Lainnya (PPJB,Girik,Adat,dll)    0.005254\n",
       "9     certificate_SHM - Sertifikat Hak Milik    0.016080"
      ]
     },
     "execution_count": 43,
     "metadata": {},
     "output_type": "execute_result"
    }
   ],
   "source": [
    "# Feature Importance (using normalized data)\n",
    "feat_importance = pd.DataFrame()\n",
    "feat_importance['feature'] = X_train.columns\n",
    "feat_importance['importance'] = best_rf.feature_importances_\n",
    "\n",
    "feat_importance"
   ]
  },
  {
   "cell_type": "markdown",
   "id": "f9b95869",
   "metadata": {},
   "source": [
    "We can see that houses with **high value of bedroom, bathroom, land area, and building area** will affect the house **price to be higher**."
   ]
  },
  {
   "cell_type": "markdown",
   "id": "a70aaeb2",
   "metadata": {},
   "source": [
    "## Model Evaluation"
   ]
  },
  {
   "cell_type": "code",
   "execution_count": 44,
   "id": "be2594c7",
   "metadata": {},
   "outputs": [],
   "source": [
    "# Encode test data as the same as train data\n",
    "enc_data = pd.DataFrame(enc.transform(X_test[['certificate']]).toarray())\n",
    "enc_data.columns = enc.get_feature_names([\"certificate\"])\n",
    "\n",
    "enc_data.index = X_test.index\n",
    "X_test = pd.concat([X_test, enc_data], axis=1).drop(\"certificate\", axis=1)\n",
    "X_test[\"prop_cond\"] = X_test[\"prop_cond\"].apply(prop_label)\n",
    "X_test[\"furniture_cond\"] = X_test[\"furniture_cond\"].apply(furn_label)"
   ]
  },
  {
   "cell_type": "code",
   "execution_count": 45,
   "id": "b53ba0d5",
   "metadata": {},
   "outputs": [
    {
     "data": {
      "text/html": [
       "<div>\n",
       "<style scoped>\n",
       "    .dataframe tbody tr th:only-of-type {\n",
       "        vertical-align: middle;\n",
       "    }\n",
       "\n",
       "    .dataframe tbody tr th {\n",
       "        vertical-align: top;\n",
       "    }\n",
       "\n",
       "    .dataframe thead th {\n",
       "        text-align: right;\n",
       "    }\n",
       "</style>\n",
       "<table border=\"1\" class=\"dataframe\">\n",
       "  <thead>\n",
       "    <tr style=\"text-align: right;\">\n",
       "      <th></th>\n",
       "      <th>bedroom</th>\n",
       "      <th>bathroom</th>\n",
       "      <th>land_area</th>\n",
       "      <th>building_area</th>\n",
       "      <th>electric_power</th>\n",
       "      <th>floor_num</th>\n",
       "      <th>prop_cond</th>\n",
       "      <th>furniture_cond</th>\n",
       "      <th>certificate_Lainnya (PPJB,Girik,Adat,dll)</th>\n",
       "      <th>certificate_SHM - Sertifikat Hak Milik</th>\n",
       "    </tr>\n",
       "  </thead>\n",
       "  <tbody>\n",
       "    <tr>\n",
       "      <th>610</th>\n",
       "      <td>2.0</td>\n",
       "      <td>1.0</td>\n",
       "      <td>72</td>\n",
       "      <td>50</td>\n",
       "      <td>2200.0</td>\n",
       "      <td>1.0</td>\n",
       "      <td>0</td>\n",
       "      <td>0</td>\n",
       "      <td>0.0</td>\n",
       "      <td>1.0</td>\n",
       "    </tr>\n",
       "    <tr>\n",
       "      <th>174</th>\n",
       "      <td>2.0</td>\n",
       "      <td>1.0</td>\n",
       "      <td>72</td>\n",
       "      <td>36</td>\n",
       "      <td>1300.0</td>\n",
       "      <td>1.0</td>\n",
       "      <td>0</td>\n",
       "      <td>0</td>\n",
       "      <td>0.0</td>\n",
       "      <td>0.0</td>\n",
       "    </tr>\n",
       "    <tr>\n",
       "      <th>67</th>\n",
       "      <td>3.0</td>\n",
       "      <td>2.0</td>\n",
       "      <td>100</td>\n",
       "      <td>90</td>\n",
       "      <td>1300.0</td>\n",
       "      <td>2.0</td>\n",
       "      <td>1</td>\n",
       "      <td>0</td>\n",
       "      <td>0.0</td>\n",
       "      <td>1.0</td>\n",
       "    </tr>\n",
       "    <tr>\n",
       "      <th>168</th>\n",
       "      <td>2.0</td>\n",
       "      <td>1.0</td>\n",
       "      <td>72</td>\n",
       "      <td>36</td>\n",
       "      <td>1300.0</td>\n",
       "      <td>1.0</td>\n",
       "      <td>0</td>\n",
       "      <td>0</td>\n",
       "      <td>0.0</td>\n",
       "      <td>1.0</td>\n",
       "    </tr>\n",
       "    <tr>\n",
       "      <th>275</th>\n",
       "      <td>2.0</td>\n",
       "      <td>2.0</td>\n",
       "      <td>62</td>\n",
       "      <td>53</td>\n",
       "      <td>2200.0</td>\n",
       "      <td>2.0</td>\n",
       "      <td>0</td>\n",
       "      <td>0</td>\n",
       "      <td>0.0</td>\n",
       "      <td>1.0</td>\n",
       "    </tr>\n",
       "  </tbody>\n",
       "</table>\n",
       "</div>"
      ],
      "text/plain": [
       "     bedroom  bathroom  land_area  building_area  electric_power  floor_num  \\\n",
       "610      2.0       1.0         72             50          2200.0        1.0   \n",
       "174      2.0       1.0         72             36          1300.0        1.0   \n",
       "67       3.0       2.0        100             90          1300.0        2.0   \n",
       "168      2.0       1.0         72             36          1300.0        1.0   \n",
       "275      2.0       2.0         62             53          2200.0        2.0   \n",
       "\n",
       "     prop_cond  furniture_cond  certificate_Lainnya (PPJB,Girik,Adat,dll)  \\\n",
       "610          0               0                                        0.0   \n",
       "174          0               0                                        0.0   \n",
       "67           1               0                                        0.0   \n",
       "168          0               0                                        0.0   \n",
       "275          0               0                                        0.0   \n",
       "\n",
       "     certificate_SHM - Sertifikat Hak Milik  \n",
       "610                                     1.0  \n",
       "174                                     0.0  \n",
       "67                                      1.0  \n",
       "168                                     1.0  \n",
       "275                                     1.0  "
      ]
     },
     "execution_count": 45,
     "metadata": {},
     "output_type": "execute_result"
    }
   ],
   "source": [
    "X_test.head()"
   ]
  },
  {
   "cell_type": "code",
   "execution_count": 46,
   "id": "2d0632f2",
   "metadata": {},
   "outputs": [
    {
     "name": "stdout",
     "output_type": "stream",
     "text": [
      "Testing Score\n",
      "\n",
      "\n",
      "Mean Squared Error: 0.04261550098745751\n",
      "Mean Absolute Error: 0.13208305026483586\n"
     ]
    }
   ],
   "source": [
    "test_preds = best_rf.predict(X_test)\n",
    "\n",
    "test_mse = mean_squared_error(Y_test, test_preds)\n",
    "test_mae = mean_absolute_error(Y_test, test_preds)\n",
    "\n",
    "print(\"Testing Score\\n\\n\")\n",
    "print(f\"Mean Squared Error: {test_mse}\")\n",
    "print(f\"Mean Absolute Error: {test_mae}\")"
   ]
  },
  {
   "cell_type": "code",
   "execution_count": 47,
   "id": "61827523",
   "metadata": {},
   "outputs": [
    {
     "data": {
      "image/png": "[encoded data removed]",
      "text/plain": [
       "<Figure size 360x360 with 1 Axes>"
      ]
     },
     "metadata": {
      "needs_background": "light"
     },
     "output_type": "display_data"
    }
   ],
   "source": [
    "test_residuals = Y_test - test_preds\n",
    "sns.displot(test_residuals)\n",
    "plt.title(\"Residual Plot\")\n",
    "plt.show()"
   ]
  },
  {
   "cell_type": "markdown",
   "id": "c3c169f2",
   "metadata": {},
   "source": [
    "We can see that our prediction is **not bad**, but there are **some observations whose prediction is far than accurate** (e.g: observations which are near the above plot's tails)."
   ]
  },
  {
   "cell_type": "markdown",
   "id": "7fae3ee8",
   "metadata": {},
   "source": [
    "## Save the Model"
   ]
  },
  {
   "cell_type": "code",
   "execution_count": 48,
   "id": "ce5fb262",
   "metadata": {},
   "outputs": [],
   "source": [
    "import pickle\n",
    "\n",
    "filename = \"model.sav\"\n",
    "pickle.dump(best_rf, open(filename, \"wb\"))"
   ]
  },
  {
   "cell_type": "markdown",
   "id": "d6ad5339",
   "metadata": {},
   "source": [
    "## Load the Saved Model"
   ]
  },
  {
   "cell_type": "code",
   "execution_count": 49,
   "id": "079828e9",
   "metadata": {},
   "outputs": [
    {
     "name": "stdout",
     "output_type": "stream",
     "text": [
      "0.7777523421672572\n"
     ]
    }
   ],
   "source": [
    "loaded_model = pickle.load(open(filename, 'rb'))\n",
    "result = loaded_model.score(X_test, Y_test)\n",
    "print(result)"
   ]
  }
 ],
 "metadata": {
  "kernelspec": {
   "display_name": "Python 3 (ipykernel)",
   "language": "python",
   "name": "python3"
  },
  "language_info": {
   "codemirror_mode": {
    "name": "ipython",
    "version": 3
   },
   "file_extension": ".py",
   "mimetype": "text/x-python",
   "name": "python",
   "nbconvert_exporter": "python",
   "pygments_lexer": "ipython3",
   "version": "3.9.12"
  }
 },
 "nbformat": 4,
 "nbformat_minor": 5
}
